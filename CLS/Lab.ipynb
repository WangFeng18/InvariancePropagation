{
 "cells": [
  {
   "cell_type": "code",
   "execution_count": 1,
   "metadata": {},
   "outputs": [],
   "source": [
    "import Tau\n",
    "import numpy as np\n",
    "import matplotlib.pyplot as plt"
   ]
  },
  {
   "cell_type": "code",
   "execution_count": 2,
   "metadata": {},
   "outputs": [
    {
     "name": "stdout",
     "output_type": "stream",
     "text": [
      "sim_epoch0.pth  \t0.00140\t\t0.00000\t\t[0.8022016  0.79470736 0.7912323  0.7886354  0.7861445  0.7840874\n",
      " 0.7823357  0.7809109  0.779726   0.7785739 ]\n",
      "sim_epoch10.pth \t0.85551\t\t0.00034\t\t[0.9763905  0.9717255  0.96886516 0.966744   0.965014   0.96354216\n",
      " 0.9622399  0.96106845 0.9600229  0.9590529 ]\n",
      "sim_epoch20.pth \t0.79942\t\t0.00862\t\t[0.89707696 0.8766222  0.8654622  0.8576092  0.8513176  0.84622\n",
      " 0.84178585 0.83779764 0.83418787 0.8310063 ]\n",
      "sim_epoch30.pth \t0.81229\t\t0.03430\t\t[0.8655966 0.8194394 0.8018966 0.7904174 0.7817658 0.7747056 0.7688194\n",
      " 0.763654  0.7591503 0.7551384]\n",
      "sim_epoch40.pth \t0.81581\t\t0.06908\t\t[0.8514861  0.7766251  0.7538015  0.74043566 0.7304311  0.7228118\n",
      " 0.71615887 0.7105116  0.70554245 0.7011656 ]\n",
      "sim_epoch50.pth \t0.81636\t\t0.10086\t\t[0.84252524 0.7461498  0.72104985 0.70598817 0.69582725 0.6874978\n",
      " 0.6807762  0.6750273  0.6697994  0.6652702 ]\n",
      "sim_epoch60.pth \t0.81701\t\t0.13652\t\t[0.83655673 0.7200065  0.69252896 0.6770348  0.6662224  0.65761703\n",
      " 0.65054834 0.64442044 0.6389946  0.63426286]\n",
      "sim_epoch70.pth \t0.81529\t\t0.16960\t\t[0.83296525 0.7003309  0.6712755  0.6548338  0.6436256  0.63461274\n",
      " 0.62722826 0.6209768  0.61553395 0.6107104 ]\n",
      "sim_epoch80.pth \t0.81559\t\t0.18858\t\t[0.8296379  0.6868862  0.65651506 0.64045197 0.6288575  0.6199978\n",
      " 0.61249924 0.6061493  0.6007528  0.59587675]\n",
      "sim_epoch90.pth \t0.81345\t\t0.20795\t\t[0.8268351  0.67742276 0.646345   0.6293133  0.6175763  0.6085681\n",
      " 0.6010114  0.5946321  0.58909464 0.5841046 ]\n",
      "sim_epoch100.pth\t0.81629\t\t0.22842\t\t[0.828901   0.66886157 0.637423   0.6199696  0.608116   0.59910554\n",
      " 0.59181666 0.58535904 0.57980216 0.5747385 ]\n",
      "sim_epoch110.pth\t0.81428\t\t0.23694\t\t[0.8247374  0.6615452  0.6296421  0.61197007 0.60029143 0.5909658\n",
      " 0.58331233 0.5767634  0.57120275 0.5661583 ]\n",
      "sim_epoch120.pth\t0.81689\t\t0.25681\t\t[0.8277647  0.65716124 0.62293106 0.6055163  0.593656   0.5843947\n",
      " 0.576736   0.57028526 0.5645705  0.55953974]\n",
      "sim_epoch130.pth\t0.81752\t\t0.26505\t\t[0.8275386  0.65308666 0.61915123 0.60140914 0.58952194 0.58024186\n",
      " 0.5724276  0.5658256  0.56010854 0.5549482 ]\n",
      "sim_epoch140.pth\t0.81786\t\t0.27535\t\t[0.82715493 0.6486086  0.6152085  0.5974918  0.5853332  0.57604325\n",
      " 0.5683586  0.5616289  0.55599844 0.5509608 ]\n",
      "sim_epoch150.pth\t0.81413\t\t0.27755\t\t[0.8240161  0.643806   0.6112205  0.5935078  0.58114856 0.5716282\n",
      " 0.5638702  0.5571981  0.5514183  0.5463948 ]\n",
      "sim_epoch160.pth\t0.83434\t\t0.32442\t\t[0.84248716 0.6485944  0.61326844 0.59455836 0.58205885 0.5722475\n",
      " 0.5643571  0.5576096  0.551766   0.5464666 ]\n",
      "sim_epoch170.pth\t0.85316\t\t0.39426\t\t[0.8593816  0.64168304 0.6044319  0.58541906 0.5722924  0.56229746\n",
      " 0.554085   0.54739285 0.5414566  0.5362644 ]\n",
      "sim_epoch180.pth\t0.85851\t\t0.40869\t\t[0.8636315  0.6375888  0.60034937 0.5811706  0.56817067 0.5585354\n",
      " 0.5503657  0.5434284  0.5374454  0.5322623 ]\n",
      "sim_epoch190.pth\t0.85865\t\t0.41695\t\t[0.8642287  0.6368162  0.59869856 0.5795637  0.5663596  0.55628294\n",
      " 0.54820853 0.54136574 0.53541017 0.53017336]\n"
     ]
    },
    {
     "name": "stderr",
     "output_type": "stream",
     "text": [
      "/home/user/instance_discrimination/InvariancePropagation/CLS/Tau.py:44: RuntimeWarning: divide by zero encountered in double_scalars\n",
      "  return (- 1/tau * (1-self.softmax(tau))).mean().item()\n"
     ]
    },
    {
     "data": {
      "image/png": "[encoded data removed]",
      "text/plain": [
       "<Figure size 432x288 with 1 Axes>"
      ]
     },
     "metadata": {
      "needs_background": "light"
     },
     "output_type": "display_data"
    },
    {
     "name": "stdout",
     "output_type": "stream",
     "text": [
      "0.670598566532135\n"
     ]
    }
   ],
   "source": [
    "observer = Tau.TauObserver('/matrix/CLS/cifar100/point_t7/similarities/')\n",
    "names = ['sim_epoch{}.pth'.format(a) for a in range(0,200,10)]\n",
    "for name in names:\n",
    "    print(name.ljust(16), end=\"\\t\")\n",
    "    observer.read_data(name=name)\n",
    "    observer.show_mean()\n",
    "    observer.show_meanP(0.07)\n",
    "    observer.rank()\n",
    "    print(observer.sorted_sim[:10])\n",
    "plt.xticks(np.linspace(0,1,11))\n",
    "observer.plot_dsp()\n",
    "print(observer.delta(0.07))"
   ]
  },
  {
   "cell_type": "code",
   "execution_count": 3,
   "metadata": {},
   "outputs": [
    {
     "name": "stdout",
     "output_type": "stream",
     "text": [
      "sim_epoch0.pth  \t-0.00205\t\t0.00000\t\t[0.80447185 0.79738855 0.7945486  0.79242545 0.7906044  0.78898156\n",
      " 0.78762573 0.7864582  0.7853094  0.78428835]\n",
      "sim_epoch10.pth \t0.99234\t\t0.00003\t\t[0.9992812  0.9991243  0.99903184 0.9989499  0.9988841  0.99882984\n",
      " 0.9987787  0.9987329  0.9986948  0.99866104]\n",
      "sim_epoch20.pth \t0.84752\t\t0.00094\t\t[0.94685096 0.93790215 0.93255574 0.92871356 0.9255776  0.92297584\n",
      " 0.9207074  0.918728   0.9169373  0.9153011 ]\n",
      "sim_epoch30.pth \t0.79626\t\t0.02324\t\t[0.86491364 0.82865846 0.8128803  0.8023087  0.79446566 0.78802776\n",
      " 0.7825243  0.7776574  0.77330035 0.7694237 ]\n",
      "sim_epoch40.pth \t0.80714\t\t0.05916\t\t[0.8462775  0.77936256 0.75795925 0.74455553 0.7350263  0.72741884\n",
      " 0.72091955 0.71538883 0.7105597  0.70625985]\n",
      "sim_epoch50.pth \t0.80876\t\t0.09840\t\t[0.8358981  0.7412153  0.71605146 0.7013288  0.6908143  0.68271184\n",
      " 0.67590106 0.6699536  0.6647791  0.6602432 ]\n",
      "sim_epoch60.pth \t0.80762\t\t0.14011\t\t[0.82890314 0.7106078  0.68249476 0.66655976 0.65571886 0.64698946\n",
      " 0.63989097 0.6339154  0.62840897 0.6237431 ]\n",
      "sim_epoch70.pth \t0.81139\t\t0.17574\t\t[0.827464   0.6892808  0.65994895 0.64351785 0.63204056 0.62328964\n",
      " 0.6157739  0.6095463  0.604173   0.59940284]\n",
      "sim_epoch80.pth \t0.80994\t\t0.19848\t\t[0.8233728  0.67370164 0.6433765  0.6265147  0.61501133 0.6059927\n",
      " 0.5985888  0.59216994 0.58660066 0.58184654]\n",
      "sim_epoch90.pth \t0.80836\t\t0.21644\t\t[0.8205157  0.6628049  0.6303686  0.6133965  0.6016631  0.59297657\n",
      " 0.5855872  0.5793475  0.5739684  0.56918865]\n",
      "sim_epoch100.pth\t0.80586\t\t0.23530\t\t[0.8176784  0.6510263  0.61855084 0.6006328  0.5888391  0.5797833\n",
      " 0.5723337  0.56602895 0.5605234  0.5555992 ]\n",
      "sim_epoch110.pth\t0.80575\t\t0.25214\t\t[0.8161388  0.64301896 0.6090271  0.59141403 0.5789981  0.56970227\n",
      " 0.56206    0.5554835  0.54975015 0.5448035 ]\n",
      "sim_epoch120.pth\t0.80677\t\t0.26797\t\t[0.817199   0.6342704  0.6017024  0.58377975 0.57180095 0.5624606\n",
      " 0.5549929  0.5486291  0.542979   0.5380689 ]\n",
      "sim_epoch130.pth\t0.80601\t\t0.27549\t\t[0.8158731  0.6309898  0.5969443  0.57871646 0.56647253 0.5570466\n",
      " 0.5494014  0.5428961  0.5371595  0.53224957]\n",
      "sim_epoch140.pth\t0.80608\t\t0.28509\t\t[0.81572497 0.6261948  0.59214133 0.57432073 0.56205404 0.5527224\n",
      " 0.54484797 0.5382645  0.5325645  0.5274543 ]\n",
      "sim_epoch150.pth\t0.80406\t\t0.28704\t\t[0.81286776 0.6216177  0.5866736  0.5682101  0.5561253  0.5468355\n",
      " 0.53906775 0.53259075 0.52696675 0.52205485]\n",
      "sim_epoch160.pth\t0.82684\t\t0.34368\t\t[0.8342108  0.6251372  0.58880436 0.5698815  0.55727684 0.5473973\n",
      " 0.5394929  0.5327231  0.5268156  0.5215976 ]\n",
      "sim_epoch170.pth\t0.84967\t\t0.41798\t\t[0.8548869  0.61985534 0.5807358  0.5606906  0.54751575 0.5373085\n",
      " 0.5290952  0.5221765  0.5163521  0.5111383 ]\n",
      "sim_epoch180.pth\t0.84824\t\t0.42625\t\t[0.85347736 0.6141711  0.57523286 0.55580634 0.54238456 0.53205293\n",
      " 0.5238636  0.5170128  0.5111313  0.50599027]\n",
      "sim_epoch190.pth\t0.84869\t\t0.43378\t\t[0.8534119  0.6101457  0.571733   0.5519411  0.53859645 0.52867097\n",
      " 0.52059644 0.5136367  0.50784314 0.50266796]\n"
     ]
    },
    {
     "data": {
      "image/png": "[encoded data removed]",
      "text/plain": [
       "<Figure size 432x288 with 1 Axes>"
      ]
     },
     "metadata": {
      "needs_background": "light"
     },
     "output_type": "display_data"
    }
   ],
   "source": [
    "observer = Tau.TauObserver('/matrix/CLS/cifar100/hardneg_t7/similarities/')\n",
    "names = ['sim_epoch{}.pth'.format(a) for a in range(0,200,10)]\n",
    "for name in names:\n",
    "    print(name.ljust(16), end=\"\\t\")\n",
    "    observer.read_data(name=name)\n",
    "    observer.show_mean()\n",
    "    observer.show_meanP(0.07)\n",
    "    observer.rank()\n",
    "    print(observer.sorted_sim[:10])\n",
    "plt.xticks(np.linspace(0,1,21))\n",
    "observer.plot_dsp()"
   ]
  },
  {
   "cell_type": "code",
   "execution_count": 12,
   "metadata": {},
   "outputs": [
    {
     "name": "stdout",
     "output_type": "stream",
     "text": [
      "sim_epoch0.pth  \t-0.00170\t\t0.00000\t\t"
     ]
    },
    {
     "ename": "KeyboardInterrupt",
     "evalue": "",
     "output_type": "error",
     "traceback": [
      "\u001b[0;31m---------------------------------------------------------------------------\u001b[0m",
      "\u001b[0;31mKeyboardInterrupt\u001b[0m                         Traceback (most recent call last)",
      "\u001b[0;32m<ipython-input-12-3603c450e710>\u001b[0m in \u001b[0;36m<module>\u001b[0;34m\u001b[0m\n\u001b[1;32m      6\u001b[0m     \u001b[0mobserver\u001b[0m\u001b[0;34m.\u001b[0m\u001b[0mshow_mean\u001b[0m\u001b[0;34m(\u001b[0m\u001b[0;34m)\u001b[0m\u001b[0;34m\u001b[0m\u001b[0;34m\u001b[0m\u001b[0m\n\u001b[1;32m      7\u001b[0m     \u001b[0mobserver\u001b[0m\u001b[0;34m.\u001b[0m\u001b[0mshow_meanP\u001b[0m\u001b[0;34m(\u001b[0m\u001b[0;36m0.07\u001b[0m\u001b[0;34m)\u001b[0m\u001b[0;34m\u001b[0m\u001b[0;34m\u001b[0m\u001b[0m\n\u001b[0;32m----> 8\u001b[0;31m     \u001b[0mobserver\u001b[0m\u001b[0;34m.\u001b[0m\u001b[0mrank\u001b[0m\u001b[0;34m(\u001b[0m\u001b[0;34m)\u001b[0m\u001b[0;34m\u001b[0m\u001b[0;34m\u001b[0m\u001b[0m\n\u001b[0m\u001b[1;32m      9\u001b[0m     \u001b[0mprint\u001b[0m\u001b[0;34m(\u001b[0m\u001b[0mobserver\u001b[0m\u001b[0;34m.\u001b[0m\u001b[0msorted_sim\u001b[0m\u001b[0;34m[\u001b[0m\u001b[0;34m:\u001b[0m\u001b[0;36m10\u001b[0m\u001b[0;34m]\u001b[0m\u001b[0;34m)\u001b[0m\u001b[0;34m\u001b[0m\u001b[0;34m\u001b[0m\u001b[0m\n\u001b[1;32m     10\u001b[0m \u001b[0mplt\u001b[0m\u001b[0;34m.\u001b[0m\u001b[0mxticks\u001b[0m\u001b[0;34m(\u001b[0m\u001b[0mnp\u001b[0m\u001b[0;34m.\u001b[0m\u001b[0mlinspace\u001b[0m\u001b[0;34m(\u001b[0m\u001b[0;36m0\u001b[0m\u001b[0;34m,\u001b[0m\u001b[0;36m1\u001b[0m\u001b[0;34m,\u001b[0m\u001b[0;36m21\u001b[0m\u001b[0;34m)\u001b[0m\u001b[0;34m)\u001b[0m\u001b[0;34m\u001b[0m\u001b[0;34m\u001b[0m\u001b[0m\n",
      "\u001b[0;32m~/instance_discrimination/InvariancePropagation/CLS/Tau.py\u001b[0m in \u001b[0;36mrank\u001b[0;34m(self)\u001b[0m\n\u001b[1;32m     65\u001b[0m         \u001b[0;32mdef\u001b[0m \u001b[0mrank\u001b[0m\u001b[0;34m(\u001b[0m\u001b[0mself\u001b[0m\u001b[0;34m)\u001b[0m\u001b[0;34m:\u001b[0m\u001b[0;34m\u001b[0m\u001b[0;34m\u001b[0m\u001b[0m\n\u001b[1;32m     66\u001b[0m                 \u001b[0;32mwith\u001b[0m \u001b[0mtorch\u001b[0m\u001b[0;34m.\u001b[0m\u001b[0mno_grad\u001b[0m\u001b[0;34m(\u001b[0m\u001b[0;34m)\u001b[0m\u001b[0;34m:\u001b[0m\u001b[0;34m\u001b[0m\u001b[0;34m\u001b[0m\u001b[0m\n\u001b[0;32m---> 67\u001b[0;31m                         \u001b[0msorted_sim\u001b[0m\u001b[0;34m,\u001b[0m \u001b[0m_\u001b[0m \u001b[0;34m=\u001b[0m \u001b[0mtorch\u001b[0m\u001b[0;34m.\u001b[0m\u001b[0msort\u001b[0m\u001b[0;34m(\u001b[0m\u001b[0mself\u001b[0m\u001b[0;34m.\u001b[0m\u001b[0msimilarities\u001b[0m\u001b[0;34m.\u001b[0m\u001b[0mcpu\u001b[0m\u001b[0;34m(\u001b[0m\u001b[0;34m)\u001b[0m\u001b[0;34m,\u001b[0m \u001b[0mdim\u001b[0m\u001b[0;34m=\u001b[0m\u001b[0;36m1\u001b[0m\u001b[0;34m,\u001b[0m \u001b[0mdescending\u001b[0m\u001b[0;34m=\u001b[0m\u001b[0;32mTrue\u001b[0m\u001b[0;34m)\u001b[0m\u001b[0;34m\u001b[0m\u001b[0;34m\u001b[0m\u001b[0m\n\u001b[0m\u001b[1;32m     68\u001b[0m                         \u001b[0msorted_sim\u001b[0m \u001b[0;34m=\u001b[0m \u001b[0msorted_sim\u001b[0m\u001b[0;34m.\u001b[0m\u001b[0mmean\u001b[0m\u001b[0;34m(\u001b[0m\u001b[0mdim\u001b[0m\u001b[0;34m=\u001b[0m\u001b[0;36m0\u001b[0m\u001b[0;34m)\u001b[0m\u001b[0;34m\u001b[0m\u001b[0;34m\u001b[0m\u001b[0m\n\u001b[1;32m     69\u001b[0m                         \u001b[0mself\u001b[0m\u001b[0;34m.\u001b[0m\u001b[0msorted_sim\u001b[0m \u001b[0;34m=\u001b[0m \u001b[0msorted_sim\u001b[0m\u001b[0;34m.\u001b[0m\u001b[0mdetach\u001b[0m\u001b[0;34m(\u001b[0m\u001b[0;34m)\u001b[0m\u001b[0;34m.\u001b[0m\u001b[0mnumpy\u001b[0m\u001b[0;34m(\u001b[0m\u001b[0;34m)\u001b[0m\u001b[0;34m\u001b[0m\u001b[0;34m\u001b[0m\u001b[0m\n",
      "\u001b[0;31mKeyboardInterrupt\u001b[0m: "
     ]
    }
   ],
   "source": [
    "observer = Tau.TauObserver('/matrix/CLS/cifar100/point_t20/similarities/')\n",
    "names = ['sim_epoch{}.pth'.format(a) for a in range(0,200,10)]\n",
    "for name in names:\n",
    "    print(name.ljust(16), end=\"\\t\")\n",
    "    observer.read_data(name=name)\n",
    "    observer.show_mean()\n",
    "    observer.show_meanP(0.07)\n",
    "    observer.rank()\n",
    "    print(observer.sorted_sim[:10])\n",
    "plt.xticks(np.linspace(0,1,21))\n",
    "observer.plot_dsp()"
   ]
  },
  {
   "cell_type": "code",
   "execution_count": 2,
   "metadata": {},
   "outputs": [
    {
     "name": "stdout",
     "output_type": "stream",
     "text": [
      "sim_epoch0.pth  \t-0.00124\t\t0.00000\t\t[0.77832556 0.7680405  0.7624509  0.7584349  0.7552857  0.75257385\n",
      " 0.7502179  0.7480177  0.7461429  0.7444449 ]\n",
      "sim_epoch10.pth \t0.71402\t\t0.00181\t\t[0.91503376 0.9019277  0.8940359  0.8881888  0.8835014  0.87957126\n",
      " 0.8761939  0.87311625 0.87026584 0.86771256]\n",
      "sim_epoch20.pth \t0.78586\t\t0.02324\t\t[0.8630069  0.8276961  0.8119547  0.8012697  0.7931436  0.78645515\n",
      " 0.7809     0.77596307 0.7715775  0.7676295 ]\n",
      "sim_epoch30.pth \t0.80682\t\t0.05027\t\t[0.85541266 0.7965919  0.7762526  0.7639928  0.75471216 0.7471524\n",
      " 0.7409781  0.7355152  0.730802   0.72647434]\n",
      "sim_epoch40.pth \t0.81912\t\t0.08148\t\t[0.8511119  0.772272   0.74925464 0.73563546 0.7255081  0.7174544\n",
      " 0.71057814 0.70476115 0.6997429  0.6952785 ]\n",
      "sim_epoch50.pth \t0.81692\t\t0.10811\t\t[0.84500533 0.75118905 0.7263603  0.71168864 0.70130366 0.6931318\n",
      " 0.6861841  0.68032366 0.6748567  0.67019665]\n",
      "sim_epoch60.pth \t0.82237\t\t0.13807\t\t[0.8433529  0.73560655 0.70898104 0.6938438  0.6826274  0.67413193\n",
      " 0.6671438  0.6609978  0.65557754 0.65085685]\n",
      "sim_epoch70.pth \t0.82519\t\t0.16346\t\t[0.843526   0.7253923  0.6971699  0.6813258  0.6703731  0.66158515\n",
      " 0.654218   0.6479339  0.6423721  0.6375529 ]\n",
      "sim_epoch80.pth \t0.82203\t\t0.17998\t\t[0.8395268  0.714304   0.68661296 0.66988826 0.65853673 0.64955497\n",
      " 0.642237   0.63585997 0.6302041  0.6252056 ]\n",
      "sim_epoch90.pth \t0.82589\t\t0.20264\t\t[0.84180605 0.708081   0.6783039  0.66190845 0.6503982  0.6412151\n",
      " 0.6337477  0.6274051  0.6217757  0.6167216 ]\n",
      "sim_epoch100.pth\t0.82583\t\t0.22020\t\t[0.8412514  0.7012107  0.67150795 0.6544749  0.6426288  0.6335918\n",
      " 0.62612253 0.6195497  0.61378366 0.60863984]\n",
      "sim_epoch110.pth\t0.82680\t\t0.23619\t\t[0.84134793 0.696569   0.66618013 0.6489948  0.6371586  0.62788683\n",
      " 0.6204279  0.61379725 0.6081042  0.6030075 ]\n",
      "sim_epoch120.pth\t0.82371\t\t0.24293\t\t[0.83781767 0.6905778  0.66029716 0.64347607 0.6318307  0.62252885\n",
      " 0.61475873 0.6081633  0.6022275  0.597054  ]\n",
      "sim_epoch130.pth\t0.82539\t\t0.25090\t\t[0.8383507  0.69080997 0.65969515 0.64263123 0.6306277  0.6212769\n",
      " 0.61337656 0.606678   0.60075116 0.59559864]\n",
      "sim_epoch140.pth\t0.82435\t\t0.25960\t\t[0.8371773  0.6865123  0.65470403 0.63774425 0.6256875  0.61614263\n",
      " 0.60827583 0.60139704 0.5955878  0.59030205]\n",
      "sim_epoch150.pth\t0.82353\t\t0.26633\t\t[0.8366435  0.6843114  0.65333194 0.6358087  0.62307644 0.6134485\n",
      " 0.6053342  0.5984665  0.59249604 0.58698666]\n",
      "sim_epoch160.pth\t0.84376\t\t0.30734\t\t[0.85477734 0.69153726 0.6591263  0.6412653  0.62850153 0.61862487\n",
      " 0.61053514 0.60357463 0.5975766  0.5920847 ]\n",
      "sim_epoch170.pth\t0.86563\t\t0.37370\t\t[0.87359554 0.6901816  0.6554241  0.63732165 0.62428784 0.6142529\n",
      " 0.6056844  0.59854287 0.59221673 0.58665514]\n",
      "sim_epoch180.pth\t0.86595\t\t0.38250\t\t[0.87449884 0.68938506 0.65415055 0.63526464 0.62200147 0.61196023\n",
      " 0.60347515 0.59622663 0.58992976 0.58419204]\n",
      "sim_epoch190.pth\t0.87485\t\t0.40553\t\t[0.88253665 0.69084257 0.65608627 0.6370869  0.62374157 0.61313885\n",
      " 0.60449815 0.5972209  0.5907029  0.58488876]\n"
     ]
    },
    {
     "name": "stderr",
     "output_type": "stream",
     "text": [
      "/home/user/instance_discrimination/InvariancePropagation/CLS/Tau.py:44: RuntimeWarning: divide by zero encountered in double_scalars\n",
      "  return (- 1/tau * (1-self.softmax(tau))).mean().item()\n"
     ]
    },
    {
     "data": {
      "image/png": "[encoded data removed]",
      "text/plain": [
       "<Figure size 432x288 with 1 Axes>"
      ]
     },
     "metadata": {
      "needs_background": "light"
     },
     "output_type": "display_data"
    }
   ],
   "source": [
    "observer = Tau.TauObserver('/matrix/CLS/cifar100/hardneg_t20/similarities/')\n",
    "names = ['sim_epoch{}.pth'.format(a) for a in range(0,200,10)]\n",
    "for name in names:\n",
    "    print(name.ljust(16), end=\"\\t\")\n",
    "    observer.read_data(name=name)\n",
    "    observer.show_mean()\n",
    "    observer.show_meanP(0.07)\n",
    "    observer.rank()\n",
    "    print(observer.sorted_sim[:10])\n",
    "plt.xticks(np.linspace(0,1,11))\n",
    "observer.plot_dsp()"
   ]
  },
  {
   "cell_type": "code",
   "execution_count": 3,
   "metadata": {},
   "outputs": [
    {
     "name": "stdout",
     "output_type": "stream",
     "text": [
      "sim_epoch0.pth  \t-0.00067\t\t0.00000\t\t[0.77743214 0.76721364 0.76129794 0.75676924 0.7534676  0.7506061\n",
      " 0.74802107 0.7455965  0.74362564 0.74187607]\n",
      "sim_epoch10.pth \t0.70324\t\t0.00180\t\t[0.9106379 0.8970902 0.8888822 0.8828076 0.8780449 0.8740218 0.8705249\n",
      " 0.8673923 0.8646224 0.861983 ]\n",
      "sim_epoch20.pth \t0.78168\t\t0.02902\t\t[0.85320896 0.812613   0.7953523  0.7843094  0.77601945 0.7692256\n",
      " 0.7635069  0.75858456 0.75418043 0.7501242 ]\n",
      "sim_epoch30.pth \t0.80031\t\t0.06842\t\t[0.84211284 0.77250886 0.7510359  0.7374953  0.7277764  0.7200828\n",
      " 0.71347255 0.70786726 0.70287305 0.6983858 ]\n",
      "sim_epoch40.pth \t0.80981\t\t0.10528\t\t[0.83998775 0.750675   0.72606975 0.71149516 0.70098823 0.6927822\n",
      " 0.68567    0.6796127  0.6742922  0.66962683]\n",
      "sim_epoch50.pth \t0.81747\t\t0.13464\t\t[0.84147507 0.73762363 0.71196926 0.69704294 0.68621725 0.6775119\n",
      " 0.6701746  0.66409653 0.6586063  0.653697  ]\n",
      "sim_epoch60.pth \t0.81980\t\t0.15872\t\t[0.8406004  0.72738475 0.7005936  0.68485075 0.67360425 0.66486645\n",
      " 0.6576451  0.65127534 0.6457896  0.64078206]\n",
      "sim_epoch70.pth \t0.82053\t\t0.17864\t\t[0.8390045  0.7178451  0.6897747  0.67362094 0.6624706  0.653377\n",
      " 0.64608616 0.63974863 0.6342324  0.6291615 ]\n",
      "sim_epoch80.pth \t0.82019\t\t0.19057\t\t[0.8371856  0.7125665  0.6846402  0.6686067  0.6568423  0.6477658\n",
      " 0.6403742  0.6338187  0.62829703 0.6232518 ]\n",
      "sim_epoch90.pth \t0.82372\t\t0.20797\t\t[0.8387405  0.70860016 0.6790513  0.6627439  0.65107656 0.64183885\n",
      " 0.6342585  0.6278046  0.6221026  0.6169962 ]\n",
      "sim_epoch100.pth\t0.82166\t\t0.21978\t\t[0.838153   0.7055589  0.67621815 0.65907085 0.64766294 0.63855696\n",
      " 0.6308049  0.6241759  0.6182835  0.61309576]\n",
      "sim_epoch110.pth\t0.82245\t\t0.22424\t\t[0.8377012  0.7051257  0.6755958  0.65892094 0.647048   0.6376305\n",
      " 0.630044   0.62349015 0.61773956 0.6124442 ]\n",
      "sim_epoch120.pth\t0.82471\t\t0.23409\t\t[0.8393845  0.7025271  0.67338073 0.6569498  0.64507484 0.6357555\n",
      " 0.6283252  0.621796   0.615801   0.6107386 ]\n",
      "sim_epoch130.pth\t0.81999\t\t0.23474\t\t[0.8363769  0.70094967 0.67193365 0.655094   0.64320624 0.6339551\n",
      " 0.62615216 0.6195137  0.61370635 0.60846204]\n",
      "sim_epoch140.pth\t0.82527\t\t0.24624\t\t[0.8402316  0.7022368  0.6729465  0.6559227  0.6437363  0.63431907\n",
      " 0.6266681  0.6202127  0.614233   0.60883766]\n",
      "sim_epoch150.pth\t0.82490\t\t0.24656\t\t[0.84006834 0.70144516 0.6723068  0.65580386 0.6438816  0.63452566\n",
      " 0.62684983 0.6201685  0.61434174 0.60900974]\n",
      "sim_epoch160.pth\t0.84692\t\t0.28485\t\t[0.8593631  0.7123412  0.68123627 0.6639847  0.65186405 0.6426042\n",
      " 0.6345413  0.6277321  0.62170184 0.61611456]\n",
      "sim_epoch170.pth\t0.86843\t\t0.34380\t\t[0.8779864  0.71304834 0.68046093 0.66246116 0.65005714 0.6404478\n",
      " 0.6321282  0.62530947 0.6192147  0.6136593 ]\n",
      "sim_epoch180.pth\t0.87130\t\t0.35235\t\t[0.88007545 0.7132982  0.6809582  0.6626359  0.64976317 0.6396845\n",
      " 0.63158864 0.6246646  0.61841196 0.612932  ]\n",
      "sim_epoch190.pth\t0.87725\t\t0.36352\t\t[0.885663   0.71747273 0.68472713 0.66663456 0.6539393  0.6440092\n",
      " 0.6357992  0.62858284 0.62238437 0.6166606 ]\n"
     ]
    },
    {
     "data": {
      "image/png": "[encoded data removed]",
      "text/plain": [
       "<Figure size 432x288 with 1 Axes>"
      ]
     },
     "metadata": {
      "needs_background": "light"
     },
     "output_type": "display_data"
    }
   ],
   "source": [
    "observer = Tau.TauObserver('/matrix/CLS/cifar100/hardneg_t30/similarities/')\n",
    "names = ['sim_epoch{}.pth'.format(a) for a in range(0,200,10)]\n",
    "for name in names:\n",
    "    print(name.ljust(16), end=\"\\t\")\n",
    "    observer.read_data(name=name)\n",
    "    observer.show_mean()\n",
    "    observer.show_meanP(0.07)\n",
    "    observer.rank()\n",
    "    print(observer.sorted_sim[:10])\n",
    "plt.xticks(np.linspace(0,1,11))\n",
    "observer.plot_dsp()"
   ]
  },
  {
   "cell_type": "code",
   "execution_count": 4,
   "metadata": {},
   "outputs": [
    {
     "name": "stdout",
     "output_type": "stream",
     "text": [
      "sim_epoch0.pth  \t0.00154\t\t0.00000\t\t[0.7767039  0.7666126  0.76115936 0.7573211  0.75410384 0.7511367\n",
      " 0.7485563  0.7462709  0.7443438  0.7425957 ]\n",
      "sim_epoch10.pth \t0.68891\t\t0.00177\t\t[0.90674007 0.8929733  0.88462555 0.87846375 0.8736923  0.8695211\n",
      " 0.86595076 0.8627619  0.8598438  0.8572621 ]\n",
      "sim_epoch20.pth \t0.77837\t\t0.02438\t\t[0.85373706 0.8186003  0.8025837  0.79195285 0.7838003  0.7772612\n",
      " 0.7716554  0.76674485 0.7624877  0.75850916]\n",
      "sim_epoch30.pth \t0.80120\t\t0.06345\t\t[0.8453224  0.7792254  0.75773853 0.7446122  0.7350016  0.7275355\n",
      " 0.7211974  0.7156165  0.71061206 0.7061893 ]\n",
      "sim_epoch40.pth \t0.81165\t\t0.09620\t\t[0.84315294 0.7583074  0.7339458  0.71978    0.70965403 0.70137995\n",
      " 0.6945944  0.6887132  0.68350726 0.678839  ]\n",
      "sim_epoch50.pth \t0.81475\t\t0.11990\t\t[0.8411372  0.74524707 0.7199737  0.7051652  0.69426656 0.68598825\n",
      " 0.67891955 0.6728229  0.6673807  0.66268057]\n",
      "sim_epoch60.pth \t0.82293\t\t0.14347\t\t[0.8432409  0.73740005 0.7107613  0.6953644  0.68444633 0.67576545\n",
      " 0.6686353  0.6622672  0.65684325 0.6518286 ]\n",
      "sim_epoch70.pth \t0.82448\t\t0.16396\t\t[0.8437264  0.730786   0.70347744 0.6881485  0.6768959  0.6682171\n",
      " 0.66076845 0.65464365 0.6490952  0.64409006]\n",
      "sim_epoch80.pth \t0.82295\t\t0.17481\t\t[0.8420963  0.7252208  0.6975642  0.68205625 0.6709211  0.66217077\n",
      " 0.6548492  0.64837706 0.6428412  0.6379175 ]\n",
      "sim_epoch90.pth \t0.82456\t\t0.18794\t\t[0.84197783 0.72084844 0.69284105 0.6772086  0.66587484 0.65710086\n",
      " 0.6497904  0.6434997  0.6377346  0.6327102 ]\n",
      "sim_epoch100.pth\t0.82694\t\t0.19708\t\t[0.8432013  0.72265536 0.693672   0.6774258  0.6659183  0.6568475\n",
      " 0.64950144 0.64293236 0.6370889  0.6318962 ]\n",
      "sim_epoch110.pth\t0.82379\t\t0.20330\t\t[0.84097326 0.7181322  0.6896154  0.67342407 0.6619978  0.6530486\n",
      " 0.6454119  0.6390067  0.6332767  0.62816644]\n",
      "sim_epoch120.pth\t0.82266\t\t0.20858\t\t[0.8412326  0.7171186  0.6890147  0.67268306 0.66141856 0.6523057\n",
      " 0.6448383  0.6383086  0.63247645 0.62735325]\n",
      "sim_epoch130.pth\t0.82477\t\t0.21375\t\t[0.84196144 0.7161401  0.6876459  0.67142725 0.65949106 0.6507348\n",
      " 0.64319104 0.63683873 0.63109976 0.62578803]\n",
      "sim_epoch140.pth\t0.82708\t\t0.22023\t\t[0.84390396 0.71758264 0.68898255 0.6723945  0.6606765  0.65141404\n",
      " 0.6438728  0.6374231  0.63174474 0.62662077]\n",
      "sim_epoch150.pth\t0.82488\t\t0.22001\t\t[0.8422336  0.7163382  0.6880635  0.6720041  0.6603164  0.6511573\n",
      " 0.6437708  0.63722926 0.6315054  0.6262486 ]\n",
      "sim_epoch160.pth\t0.84824\t\t0.25723\t\t[0.8622226  0.7273383  0.6972373  0.6803101  0.66848814 0.65881866\n",
      " 0.6510353  0.6441996  0.63822895 0.63306165]\n",
      "sim_epoch170.pth\t0.87038\t\t0.30546\t\t[0.8813624  0.7317149  0.70140314 0.68508255 0.67305523 0.6639294\n",
      " 0.65604407 0.6494028  0.6434174  0.638004  ]\n",
      "sim_epoch180.pth\t0.87415\t\t0.31658\t\t[0.8852018  0.73394054 0.70329916 0.68637407 0.67439216 0.66484815\n",
      " 0.6570048  0.650446   0.644399   0.6391041 ]\n",
      "sim_epoch190.pth\t0.87895\t\t0.32230\t\t[0.8896136  0.7381636  0.7073274  0.6899394  0.6776704  0.6681654\n",
      " 0.6602214  0.65340084 0.6474457  0.64192224]\n"
     ]
    },
    {
     "data": {
      "image/png": "[encoded data removed]",
      "text/plain": [
       "<Figure size 432x288 with 1 Axes>"
      ]
     },
     "metadata": {
      "needs_background": "light"
     },
     "output_type": "display_data"
    }
   ],
   "source": [
    "observer = Tau.TauObserver('/matrix/CLS/cifar100/hardneg_t40/similarities/')\n",
    "names = ['sim_epoch{}.pth'.format(a) for a in range(0,200,10)]\n",
    "for name in names:\n",
    "    print(name.ljust(16), end=\"\\t\")\n",
    "    observer.read_data(name=name)\n",
    "    observer.show_mean()\n",
    "    observer.show_meanP(0.07)\n",
    "    observer.rank()\n",
    "    print(observer.sorted_sim[:10])\n",
    "plt.xticks(np.linspace(0,1,11))\n",
    "observer.plot_dsp()"
   ]
  },
  {
   "cell_type": "code",
   "execution_count": 5,
   "metadata": {},
   "outputs": [
    {
     "name": "stdout",
     "output_type": "stream",
     "text": [
      "sim_epoch0.pth  \t0.00165\t\t0.00000\t\t[0.800342   0.79310596 0.7888751  0.78647983 0.7846632  0.78313875\n",
      " 0.78164256 0.7800937  0.77895945 0.7779724 ]\n",
      "sim_epoch10.pth \t0.86312\t\t0.00034\t\t[0.9810057  0.97689265 0.97441083 0.9724728  0.97090983 0.96954924\n",
      " 0.96836495 0.9673224  0.96638256 0.9655317 ]\n",
      "sim_epoch20.pth \t0.80186\t\t0.00879\t\t[0.9011112  0.88138866 0.87050587 0.8626498  0.85628694 0.8510586\n",
      " 0.8465589  0.8426136  0.839043   0.835851  ]\n",
      "sim_epoch30.pth \t0.81133\t\t0.02957\t\t[0.8689106  0.82685053 0.80990267 0.79882735 0.79053503 0.78379494\n",
      " 0.77805483 0.77302134 0.7685346  0.76453483]\n",
      "sim_epoch40.pth \t0.81634\t\t0.06836\t\t[0.8516053  0.77736014 0.75509894 0.7417829  0.7320638  0.7242084\n",
      " 0.71761876 0.7120494  0.7070331  0.7026547 ]\n",
      "sim_epoch50.pth \t0.81908\t\t0.10480\t\t[0.84315044 0.7450226  0.72001576 0.70527065 0.694514   0.68646085\n",
      " 0.6795665  0.67356724 0.66836387 0.66372657]\n",
      "sim_epoch60.pth \t0.82169\t\t0.14431\t\t[0.83881474 0.71858567 0.6913871  0.6752892  0.66429526 0.6556267\n",
      " 0.6484776  0.64250153 0.6371182  0.6324068 ]\n",
      "sim_epoch70.pth \t0.81544\t\t0.17441\t\t[0.83292437 0.6975977  0.66887885 0.652587   0.6413656  0.6329032\n",
      " 0.62553144 0.6191811  0.6137933  0.60897607]\n",
      "sim_epoch80.pth \t0.81855\t\t0.20240\t\t[0.8319311  0.6845488  0.65336424 0.6367431  0.6250015  0.616075\n",
      " 0.60866815 0.6022242  0.5968162  0.59186345]\n",
      "sim_epoch90.pth \t0.81925\t\t0.22425\t\t[0.83142203 0.6757552  0.6440637  0.62645483 0.61408466 0.6047936\n",
      " 0.5973608  0.5909965  0.58529145 0.58029515]\n",
      "sim_epoch100.pth\t0.81799\t\t0.24215\t\t[0.8293425  0.665359   0.63220245 0.6147733  0.6028247  0.5937231\n",
      " 0.5861079  0.57977295 0.5740829  0.56907964]\n",
      "sim_epoch110.pth\t0.81851\t\t0.26134\t\t[0.83014476 0.6574227  0.6243549  0.6066387  0.594181   0.5847913\n",
      " 0.57710004 0.57065433 0.5650208  0.5599352 ]\n",
      "sim_epoch120.pth\t0.81799\t\t0.27256\t\t[0.8285982  0.65176284 0.61826456 0.59995717 0.58756894 0.5780079\n",
      " 0.57009333 0.56344754 0.5576702  0.5526434 ]\n",
      "sim_epoch130.pth\t0.81982\t\t0.28436\t\t[0.829218   0.6480827  0.6144329  0.59592354 0.58345795 0.57357883\n",
      " 0.565928   0.55943584 0.55365855 0.54863423]\n",
      "sim_epoch140.pth\t0.81919\t\t0.30073\t\t[0.8287035  0.64130706 0.6061743  0.5885296  0.5760263  0.566665\n",
      " 0.5587804  0.55212355 0.5462685  0.5413062 ]\n",
      "sim_epoch150.pth\t0.81828\t\t0.30931\t\t[0.8272757  0.6362266  0.601482   0.5834877  0.5709894  0.5613867\n",
      " 0.55360353 0.54694    0.5411342  0.5359755 ]\n",
      "sim_epoch160.pth\t0.83840\t\t0.35912\t\t[0.8456254  0.63853145 0.6020137  0.58333266 0.5704336  0.56053746\n",
      " 0.55258524 0.5457609  0.53993344 0.53464925]\n",
      "sim_epoch170.pth\t0.85399\t\t0.42288\t\t[0.8603573  0.62978387 0.59268683 0.57309234 0.5595     0.5494823\n",
      " 0.54122174 0.53431886 0.5282169  0.5230023 ]\n",
      "sim_epoch180.pth\t0.85563\t\t0.43597\t\t[0.86108047 0.6259595  0.5864606  0.56653214 0.55342793 0.5432115\n",
      " 0.53507346 0.5280799  0.52217996 0.5168866 ]\n",
      "sim_epoch190.pth\t0.86265\t\t0.45431\t\t[0.86701506 0.62511563 0.58614427 0.56595296 0.55233467 0.54218274\n",
      " 0.5337346  0.5264398  0.52046233 0.51501656]\n"
     ]
    },
    {
     "data": {
      "image/png": "[encoded data removed]",
      "text/plain": [
       "<Figure size 432x288 with 1 Axes>"
      ]
     },
     "metadata": {
      "needs_background": "light"
     },
     "output_type": "display_data"
    }
   ],
   "source": [
    "observer = Tau.TauObserver('/matrix/CLS/cifar100/ratio_t7/similarities/')\n",
    "names = ['sim_epoch{}.pth'.format(a) for a in range(0,200,10)]\n",
    "for name in names:\n",
    "    print(name.ljust(16), end=\"\\t\")\n",
    "    observer.read_data(name=name)\n",
    "    observer.show_mean()\n",
    "    observer.show_meanP(0.07)\n",
    "    observer.rank()\n",
    "    print(observer.sorted_sim[:10])\n",
    "plt.xticks(np.linspace(0,1,11))\n",
    "observer.plot_dsp()"
   ]
  },
  {
   "cell_type": "code",
   "execution_count": 8,
   "metadata": {},
   "outputs": [
    {
     "name": "stdout",
     "output_type": "stream",
     "text": [
      "tensor(0.8343, device='cuda:0', grad_fn=<MeanBackward0>)\n"
     ]
    }
   ],
   "source": [
    "observer.show_mean()"
   ]
  },
  {
   "cell_type": "code",
   "execution_count": 7,
   "metadata": {},
   "outputs": [],
   "source": [
    "observer = Tau.TauObserver('/matrix/CLS/cifar100/hardneg_t7/similarities/')"
   ]
  },
  {
   "cell_type": "code",
   "execution_count": 8,
   "metadata": {},
   "outputs": [
    {
     "name": "stdout",
     "output_type": "stream",
     "text": [
      "['sim_epoch0.pth', 'sim_epoch1.pth', 'sim_epoch2.pth', 'sim_epoch3.pth', 'sim_epoch4.pth', 'sim_epoch5.pth', 'sim_epoch6.pth', 'sim_epoch7.pth', 'sim_epoch10.pth', 'sim_epoch20.pth', 'sim_epoch30.pth', 'sim_epoch40.pth', 'sim_epoch50.pth', 'sim_epoch60.pth', 'sim_epoch70.pth', 'sim_epoch80.pth', 'sim_epoch90.pth', 'sim_epoch100.pth', 'sim_epoch110.pth', 'sim_epoch120.pth', 'sim_epoch130.pth', 'sim_epoch140.pth', 'sim_epoch150.pth', 'sim_epoch160.pth', 'sim_epoch170.pth', 'sim_epoch180.pth', 'sim_epoch190.pth']\n",
      "tensor(0.8482, device='cuda:0', grad_fn=<MeanBackward0>)\n"
     ]
    }
   ],
   "source": [
    "observer.read_data(step=-2)\n",
    "observer.show_mean()"
   ]
  },
  {
   "cell_type": "code",
   "execution_count": 6,
   "metadata": {},
   "outputs": [],
   "source": [
    "import pandas as pd\n",
    "df = pd.DataFrame({\n",
    "        \"Name\": [\"Braund, Mr. Owen Harris\",\n",
    "                 \"Allen, Mr. William Henry\",\n",
    "                 \"Bonnell, Miss. Elizabeth\"],\n",
    "        \"Age\": [22, 35, 58],\n",
    "        \"Sex\": [\"male\", \"male\", \"female\"]}\n",
    ")"
   ]
  },
  {
   "cell_type": "code",
   "execution_count": 7,
   "metadata": {},
   "outputs": [
    {
     "data": {
      "text/html": [
       "<div>\n",
       "<style scoped>\n",
       "    .dataframe tbody tr th:only-of-type {\n",
       "        vertical-align: middle;\n",
       "    }\n",
       "\n",
       "    .dataframe tbody tr th {\n",
       "        vertical-align: top;\n",
       "    }\n",
       "\n",
       "    .dataframe thead th {\n",
       "        text-align: right;\n",
       "    }\n",
       "</style>\n",
       "<table border=\"1\" class=\"dataframe\">\n",
       "  <thead>\n",
       "    <tr style=\"text-align: right;\">\n",
       "      <th></th>\n",
       "      <th>Name</th>\n",
       "      <th>Age</th>\n",
       "      <th>Sex</th>\n",
       "    </tr>\n",
       "  </thead>\n",
       "  <tbody>\n",
       "    <tr>\n",
       "      <td>0</td>\n",
       "      <td>Braund, Mr. Owen Harris</td>\n",
       "      <td>22</td>\n",
       "      <td>male</td>\n",
       "    </tr>\n",
       "    <tr>\n",
       "      <td>1</td>\n",
       "      <td>Allen, Mr. William Henry</td>\n",
       "      <td>35</td>\n",
       "      <td>male</td>\n",
       "    </tr>\n",
       "    <tr>\n",
       "      <td>2</td>\n",
       "      <td>Bonnell, Miss. Elizabeth</td>\n",
       "      <td>58</td>\n",
       "      <td>female</td>\n",
       "    </tr>\n",
       "  </tbody>\n",
       "</table>\n",
       "</div>"
      ],
      "text/plain": [
       "                       Name  Age     Sex\n",
       "0   Braund, Mr. Owen Harris   22    male\n",
       "1  Allen, Mr. William Henry   35    male\n",
       "2  Bonnell, Miss. Elizabeth   58  female"
      ]
     },
     "execution_count": 7,
     "metadata": {},
     "output_type": "execute_result"
    }
   ],
   "source": [
    "df"
   ]
  },
  {
   "cell_type": "code",
   "execution_count": null,
   "metadata": {},
   "outputs": [],
   "source": []
  }
 ],
 "metadata": {
  "kernelspec": {
   "display_name": "Python 3",
   "language": "python",
   "name": "python3"
  },
  "language_info": {
   "codemirror_mode": {
    "name": "ipython",
    "version": 3
   },
   "file_extension": ".py",
   "mimetype": "text/x-python",
   "name": "python",
   "nbconvert_exporter": "python",
   "pygments_lexer": "ipython3",
   "version": "3.7.4"
  }
 },
 "nbformat": 4,
 "nbformat_minor": 4
}
