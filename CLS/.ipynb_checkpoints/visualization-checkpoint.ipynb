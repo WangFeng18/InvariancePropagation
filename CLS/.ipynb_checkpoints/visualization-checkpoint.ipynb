{
 "cells": [
  {
   "cell_type": "code",
   "execution_count": 1,
   "metadata": {},
   "outputs": [],
   "source": [
    "import Tau\n",
    "import matplotlib.pyplot as plt\n",
    "import matplotlib\n",
    "import numpy as np\n",
    "import os\n",
    "import pandas as pd\n",
    "plt.rc('font',family='Times New Roman')\n",
    "matplotlib.rc('xtick', labelsize=20) \n",
    "matplotlib.rc('ytick', labelsize=20)"
   ]
  },
  {
   "cell_type": "code",
   "execution_count": 2,
   "metadata": {},
   "outputs": [],
   "source": [
    "\n",
    "def get_barplotdata(name):\n",
    "    n = 200\n",
    "    observer = Tau.TauObserver(name)\n",
    "    observer.read_data(step=-1)\n",
    "    nega = observer.rank()\n",
    "    posi = observer.positive_similarities.cpu().numpy()[:n] # n\n",
    "    nega = nega.cpu().numpy()[:n]                           # nxN\n",
    "    data = np.concatenate([posi.reshape(n,1), nega[:,:10]], axis=1)\n",
    "    return data\n"
   ]
  },
  {
   "cell_type": "code",
   "execution_count": 9,
   "metadata": {},
   "outputs": [
    {
     "name": "stdout",
     "output_type": "stream",
     "text": [
      "['pos', 'nega1', 'nega2', 'nega3', 'nega4', 'nega5', 'nega6', 'nega7', 'nega8', 'nega9', 'nega10']\n",
      "sim_epoch200.pth\n",
      "sim_epoch190.pth\n",
      "sim_epoch199.pth\n",
      "sim_epoch199.pth\n",
      "sim_epoch199.pth\n",
      "sim_epoch199.pth\n",
      "sim_epoch200.pth\n",
      "sim_epoch200.pth\n",
      "sim_epoch200.pth\n",
      "sim_epoch200.pth\n",
      "sim_epoch200.pth\n"
     ]
    },
    {
     "data": {
      "text/plain": [
       "<Figure size 432x288 with 0 Axes>"
      ]
     },
     "metadata": {},
     "output_type": "display_data"
    }
   ],
   "source": [
    "dataset = 'ImageNet100'\n",
    "subnames= ['point_t5','point_t7', 'point_t20', 'point_t30', 'point_t40', 'point_t50', 'point_t60', 'point_t70', 'point_t80', 'point_t90', 'point_t100' ]\n",
    "# subnames= ['hardneg_t5','hardneg_t7', 'hardneg_t20', 'hardneg_t30', 'hardneg_t40', 'hardneg_t50', 'hardneg_t60', 'hardneg_t70', 'hardneg_t80', 'hardneg_t90', 'hardneg_t100' ]\n",
    "# subnames = ['point_t40', 'point_t60', 'point_t90']\n",
    "# subnames = ['point_t40', 'point_t50', 'point_t60', 'point_t70']\n",
    "# subnames = ['point_t80', 'point_t90', 'point_t100']\n",
    "# subnames = ['hardneg_t7', 'hardneg_t20', 'hardneg_t30'] #'point_t70', 'point_t80', 'point_t90', 'point_t100']\n",
    "names = ['/matrix/CLS/{}/{}/similarities/'.format(dataset, n) for n in subnames]\n",
    "\n",
    "print(['pos',]+['nega{}'.format(i) for i in range(1,11)])\n",
    "\n",
    "\n",
    "def get_barplot(name, dataset, subname):\n",
    "    plt.grid(False)\n",
    "    df = pd.DataFrame(get_barplotdata(name),columns=['pos',]+['n{}'.format(i) for i in range(1,11)])#先生成0-1之间的5*4维度数据，再装入4列DataFrame中\n",
    "    f = df.boxplot(patch_artist=True,return_type='dict')\n",
    "    color=['#FF6347'] + ['#9FD0E5']*10\n",
    "    for box,c in zip(f['boxes'], color):\n",
    "        box.set( color='black', linewidth=0.5)\n",
    "        # 箱体内部填充颜色\n",
    "        box.set( facecolor = c )\n",
    "    for median in f['medians']:\n",
    "        median.set(color='DarkBlue', linewidth=1)\n",
    "    for flier in f['fliers']:\n",
    "        flier.set(marker='o', color='b', alpha=0.8, markeredgewidth=0.5)\n",
    "    \n",
    "#     plt.boxplot(get_barplotdata(name), labels=['pos',]+['neg{}'.format(i) for i in range(1,11)], \n",
    "#                 patch_artist = True, medianprops={'color':'black'}, boxprops = {'color':'black','facecolor':'red', ['#9FD0E5']*10}, flierprops= {'markeredgecolor': 'black', 'markeredgewidth':0.3})\n",
    "    plt.margins(0,0)\n",
    "    plt.gca().set_ylim(top=1.0, bottom=0.4)\n",
    "    plt.grid(linewidth=0.5)\n",
    "    tau = float(subname.split('_t')[1])/100\n",
    "    plt.title(r'$\\tau$'+'='+'{:.2f}'.format(tau), fontsize=20)\n",
    "    plt.savefig('{}_{}.pdf'.format(dataset, subname), bbox_inches = 'tight')\n",
    "    plt.clf()\n",
    "    \n",
    "for subname, name in zip(subnames, names):\n",
    "    get_barplot(name, dataset, subname)"
   ]
  },
  {
   "cell_type": "markdown",
   "metadata": {},
   "source": [
    "# Historgram of similarities"
   ]
  },
  {
   "cell_type": "code",
   "execution_count": 1,
   "metadata": {},
   "outputs": [],
   "source": [
    "import Tau\n",
    "import matplotlib.pyplot as plt\n",
    "import matplotlib\n",
    "import numpy as np\n",
    "import os\n",
    "import pandas as pd\n",
    "plt.rc('font',family='Times New Roman')\n",
    "matplotlib.rc('xtick', labelsize=20) \n",
    "matplotlib.rc('ytick', labelsize=20)\n",
    "def plot_similarities_cmp(t, dataset='cifar100', context=100):\n",
    "\n",
    "    plt.figure(figsize=(5,8))\n",
    "    plt.subplot(211)\n",
    "    observer = Tau.TauObserver('/matrix/CLS/{}/point_t{}/similarities/'.format(dataset, t))\n",
    "    observer.read_data(step=-1)\n",
    "    sorted_sim = observer.rank().numpy()\n",
    "    sim = sorted_sim[:, :context].reshape(-1)\n",
    "    # sim = observer.similarities.detach().cpu().numpy().reshape(-1)\n",
    "    np.random.shuffle(sim)\n",
    "    plt.xlim(0.25,1)\n",
    "    plt.hist(sim.reshape(-1)[:context], bins=100, color='y')\n",
    "    plt.subplot(212)\n",
    "    observer = Tau.TauObserver('/matrix/CLS/{}/hardneg_t{}/similarities/'.format(dataset, t))\n",
    "    observer.read_data(step=-1)\n",
    "    sorted_sim = observer.rank().numpy()\n",
    "    sim = sorted_sim[:, :context].reshape(-1)\n",
    "    # sim = observer.similarities.detach().cpu().numpy().reshape(-1)\n",
    "    np.random.shuffle(sim)\n",
    "    plt.xlim(0.25,1)\n",
    "    plt.hist(sim.reshape(-1)[:context], bins=100)\n",
    "\n",
    "def plot_similarities_cmptemp(names, w, h, context=1000,):\n",
    "    plt.figure(figsize=(w*5, h*4))\n",
    "    for i,name in enumerate(names):\n",
    "        currentplot = h*100 + w*10 + i + 1\n",
    "        plt.subplot(currentplot)\n",
    "        observer = Tau.TauObserver(name)\n",
    "        observer.read_data(step=-1)\n",
    "        sorted_sim = observer.rank().numpy()\n",
    "        sim = sorted_sim[:, :context].reshape(-1)\n",
    "        # sim = observer.similarities.detach().cpu().numpy().reshape(-1)\n",
    "        np.random.shuffle(sim)\n",
    "        plt.xlim(0.25,1)\n",
    "        plt.hist(sim.reshape(-1)[:context], bins=100, color='y')\n",
    "        plt.title(name)\n",
    "    "
   ]
  },
  {
   "cell_type": "code",
   "execution_count": 2,
   "metadata": {},
   "outputs": [
    {
     "name": "stdout",
     "output_type": "stream",
     "text": [
      "sim_epoch199.pthsim_epoch190.pthsim_epoch190.pthsim_epoch190.pthsim_epoch199.pthsim_epoch199.pth"
     ]
    },
    {
     "ename": "RuntimeError",
     "evalue": "CUDA out of memory. Tried to allocate 5.06 GiB (GPU 3; 10.76 GiB total capacity; 5.05 GiB already allocated; 3.84 GiB free; 982.14 MiB cached)",
     "output_type": "error",
     "traceback": [
      "\u001b[0;31m---------------------------------------------------------------------------\u001b[0m",
      "\u001b[0;31mRuntimeError\u001b[0m                              Traceback (most recent call last)",
      "\u001b[0;32m<ipython-input-2-d8a348bb36fa>\u001b[0m in \u001b[0;36m<module>\u001b[0;34m\u001b[0m\n\u001b[1;32m      1\u001b[0m \u001b[0msubnames\u001b[0m\u001b[0;34m=\u001b[0m \u001b[0;34m[\u001b[0m\u001b[0;34m'point_t7'\u001b[0m\u001b[0;34m,\u001b[0m\u001b[0;34m'point_t20'\u001b[0m\u001b[0;34m,\u001b[0m \u001b[0;34m'point_t30'\u001b[0m\u001b[0;34m,\u001b[0m \u001b[0;34m'hardneg_t7'\u001b[0m\u001b[0;34m,\u001b[0m \u001b[0;34m'hardneg_t20'\u001b[0m\u001b[0;34m,\u001b[0m \u001b[0;34m'hardneg_t30'\u001b[0m\u001b[0;34m]\u001b[0m\u001b[0;34m\u001b[0m\u001b[0;34m\u001b[0m\u001b[0m\n\u001b[1;32m      2\u001b[0m \u001b[0mnames\u001b[0m \u001b[0;34m=\u001b[0m \u001b[0;34m[\u001b[0m\u001b[0;34m'/matrix/CLS/cifar100/{}/similarities/'\u001b[0m\u001b[0;34m.\u001b[0m\u001b[0mformat\u001b[0m\u001b[0;34m(\u001b[0m\u001b[0mn\u001b[0m\u001b[0;34m)\u001b[0m \u001b[0;32mfor\u001b[0m \u001b[0mn\u001b[0m \u001b[0;32min\u001b[0m \u001b[0msubnames\u001b[0m\u001b[0;34m]\u001b[0m\u001b[0;34m\u001b[0m\u001b[0;34m\u001b[0m\u001b[0m\n\u001b[0;32m----> 3\u001b[0;31m \u001b[0mplot_similarities_cmptemp\u001b[0m\u001b[0;34m(\u001b[0m\u001b[0mnames\u001b[0m\u001b[0;34m,\u001b[0m \u001b[0;36m4\u001b[0m\u001b[0;34m,\u001b[0m\u001b[0;36m2\u001b[0m\u001b[0;34m,\u001b[0m\u001b[0mcontext\u001b[0m\u001b[0;34m=\u001b[0m\u001b[0;36m1000\u001b[0m\u001b[0;34m)\u001b[0m\u001b[0;34m\u001b[0m\u001b[0;34m\u001b[0m\u001b[0m\n\u001b[0m",
      "\u001b[0;32m<ipython-input-1-b882f03bb4a9>\u001b[0m in \u001b[0;36mplot_similarities_cmptemp\u001b[0;34m(names, w, h, context)\u001b[0m\n\u001b[1;32m     37\u001b[0m         \u001b[0mobserver\u001b[0m \u001b[0;34m=\u001b[0m \u001b[0mTau\u001b[0m\u001b[0;34m.\u001b[0m\u001b[0mTauObserver\u001b[0m\u001b[0;34m(\u001b[0m\u001b[0mname\u001b[0m\u001b[0;34m)\u001b[0m\u001b[0;34m\u001b[0m\u001b[0;34m\u001b[0m\u001b[0m\n\u001b[1;32m     38\u001b[0m         \u001b[0mobserver\u001b[0m\u001b[0;34m.\u001b[0m\u001b[0mread_data\u001b[0m\u001b[0;34m(\u001b[0m\u001b[0mstep\u001b[0m\u001b[0;34m=\u001b[0m\u001b[0;34m-\u001b[0m\u001b[0;36m1\u001b[0m\u001b[0;34m)\u001b[0m\u001b[0;34m\u001b[0m\u001b[0;34m\u001b[0m\u001b[0m\n\u001b[0;32m---> 39\u001b[0;31m         \u001b[0msorted_sim\u001b[0m \u001b[0;34m=\u001b[0m \u001b[0mobserver\u001b[0m\u001b[0;34m.\u001b[0m\u001b[0mrank\u001b[0m\u001b[0;34m(\u001b[0m\u001b[0;34m)\u001b[0m\u001b[0;34m.\u001b[0m\u001b[0mnumpy\u001b[0m\u001b[0;34m(\u001b[0m\u001b[0;34m)\u001b[0m\u001b[0;34m\u001b[0m\u001b[0;34m\u001b[0m\u001b[0m\n\u001b[0m\u001b[1;32m     40\u001b[0m         \u001b[0msim\u001b[0m \u001b[0;34m=\u001b[0m \u001b[0msorted_sim\u001b[0m\u001b[0;34m[\u001b[0m\u001b[0;34m:\u001b[0m\u001b[0;34m,\u001b[0m \u001b[0;34m:\u001b[0m\u001b[0mcontext\u001b[0m\u001b[0;34m]\u001b[0m\u001b[0;34m.\u001b[0m\u001b[0mreshape\u001b[0m\u001b[0;34m(\u001b[0m\u001b[0;34m-\u001b[0m\u001b[0;36m1\u001b[0m\u001b[0;34m)\u001b[0m\u001b[0;34m\u001b[0m\u001b[0;34m\u001b[0m\u001b[0m\n\u001b[1;32m     41\u001b[0m         \u001b[0;31m# sim = observer.similarities.detach().cpu().numpy().reshape(-1)\u001b[0m\u001b[0;34m\u001b[0m\u001b[0;34m\u001b[0m\u001b[0;34m\u001b[0m\u001b[0m\n",
      "\u001b[0;32m~/instance_discrimination/InvariancePropagation/CLS/Tau.py\u001b[0m in \u001b[0;36mrank\u001b[0;34m(self)\u001b[0m\n\u001b[1;32m     73\u001b[0m         \u001b[0;32mdef\u001b[0m \u001b[0mrank\u001b[0m\u001b[0;34m(\u001b[0m\u001b[0mself\u001b[0m\u001b[0;34m)\u001b[0m\u001b[0;34m:\u001b[0m\u001b[0;34m\u001b[0m\u001b[0;34m\u001b[0m\u001b[0m\n\u001b[1;32m     74\u001b[0m                 \u001b[0;32mwith\u001b[0m \u001b[0mtorch\u001b[0m\u001b[0;34m.\u001b[0m\u001b[0mno_grad\u001b[0m\u001b[0;34m(\u001b[0m\u001b[0;34m)\u001b[0m\u001b[0;34m:\u001b[0m\u001b[0;34m\u001b[0m\u001b[0;34m\u001b[0m\u001b[0m\n\u001b[0;32m---> 75\u001b[0;31m                         \u001b[0msorted_sim\u001b[0m\u001b[0;34m,\u001b[0m \u001b[0m_\u001b[0m \u001b[0;34m=\u001b[0m \u001b[0mtorch\u001b[0m\u001b[0;34m.\u001b[0m\u001b[0msort\u001b[0m\u001b[0;34m(\u001b[0m\u001b[0mself\u001b[0m\u001b[0;34m.\u001b[0m\u001b[0msimilarities\u001b[0m\u001b[0;34m.\u001b[0m\u001b[0mto\u001b[0m\u001b[0;34m(\u001b[0m\u001b[0mtorch\u001b[0m\u001b[0;34m.\u001b[0m\u001b[0mdevice\u001b[0m\u001b[0;34m(\u001b[0m\u001b[0;34m'cuda:3'\u001b[0m\u001b[0;34m)\u001b[0m\u001b[0;34m)\u001b[0m\u001b[0;34m,\u001b[0m \u001b[0mdim\u001b[0m\u001b[0;34m=\u001b[0m\u001b[0;36m1\u001b[0m\u001b[0;34m,\u001b[0m \u001b[0mdescending\u001b[0m\u001b[0;34m=\u001b[0m\u001b[0;32mTrue\u001b[0m\u001b[0;34m)\u001b[0m\u001b[0;34m\u001b[0m\u001b[0;34m\u001b[0m\u001b[0m\n\u001b[0m\u001b[1;32m     76\u001b[0m                         \u001b[0msorted_sim\u001b[0m \u001b[0;34m=\u001b[0m \u001b[0msorted_sim\u001b[0m\u001b[0;34m\u001b[0m\u001b[0;34m\u001b[0m\u001b[0m\n\u001b[1;32m     77\u001b[0m                 \u001b[0;32mreturn\u001b[0m \u001b[0msorted_sim\u001b[0m\u001b[0;34m.\u001b[0m\u001b[0mdetach\u001b[0m\u001b[0;34m(\u001b[0m\u001b[0;34m)\u001b[0m\u001b[0;34m.\u001b[0m\u001b[0mcpu\u001b[0m\u001b[0;34m(\u001b[0m\u001b[0;34m)\u001b[0m\u001b[0;34m\u001b[0m\u001b[0;34m\u001b[0m\u001b[0m\n",
      "\u001b[0;31mRuntimeError\u001b[0m: CUDA out of memory. Tried to allocate 5.06 GiB (GPU 3; 10.76 GiB total capacity; 5.05 GiB already allocated; 3.84 GiB free; 982.14 MiB cached)"
     ]
    },
    {
     "data": {
      "image/png": "[encoded data removed]",
      "text/plain": [
       "<Figure size 1440x576 with 6 Axes>"
      ]
     },
     "metadata": {
      "needs_background": "light"
     },
     "output_type": "display_data"
    }
   ],
   "source": [
    "\n",
    "subnames= ['point_t7','point_t20', 'point_t30', 'hardneg_t7', 'hardneg_t20', 'hardneg_t30']\n",
    "names = ['/matrix/CLS/cifar100/{}/similarities/'.format(n) for n in subnames]\n",
    "plot_similarities_cmptemp(names, 4,2,context=1000)"
   ]
  },
  {
   "cell_type": "code",
   "execution_count": null,
   "metadata": {},
   "outputs": [],
   "source": [
    "context = 100\n",
    "\n",
    "plt.figure(figsize=(5,8))\n",
    "plt.subplot(211)\n",
    "observer = Tau.TauObserver('/matrix/CLS/cifar100/point_t20/similarities/')\n",
    "observer.read_data(step=-1)\n",
    "sorted_sim = observer.rank().numpy()\n",
    "sim = sorted_sim[:, :context].reshape(-1)\n",
    "# sim = observer.similarities.detach().cpu().numpy().reshape(-1)\n",
    "np.random.shuffle(sim)\n",
    "plt.xlim(0.25,1)\n",
    "plt.hist(sim.reshape(-1)[:context], bins=100, color='y')\n",
    "plt.subplot(212)\n",
    "observer = Tau.TauObserver('/matrix/CLS/cifar100/hardneg_t20/similarities/')\n",
    "observer.read_data(step=-1)\n",
    "sorted_sim = observer.rank().numpy()\n",
    "sim = sorted_sim[:, :context].reshape(-1)\n",
    "# sim = observer.similarities.detach().cpu().numpy().reshape(-1)\n",
    "np.random.shuffle(sim)\n",
    "plt.xlim(0.25,1)\n",
    "plt.hist(sim.reshape(-1)[:context], bins=100)"
   ]
  },
  {
   "cell_type": "markdown",
   "metadata": {},
   "source": [
    "# Interval Histogram"
   ]
  },
  {
   "cell_type": "code",
   "execution_count": 2,
   "metadata": {},
   "outputs": [
    {
     "name": "stdout",
     "output_type": "stream",
     "text": [
      "sim_epoch199.pthsim_epoch199.pth"
     ]
    },
    {
     "data": {
      "image/png": "[encoded data removed]",
      "text/plain": [
       "<Figure size 432x288 with 1 Axes>"
      ]
     },
     "metadata": {
      "needs_background": "light"
     },
     "output_type": "display_data"
    }
   ],
   "source": [
    "import Tau\n",
    "import matplotlib.pyplot as plt\n",
    "import matplotlib\n",
    "import numpy as np\n",
    "import os\n",
    "import pandas as pd\n",
    "plt.rc('font',family='Times New Roman')\n",
    "matplotlib.rc('xtick', labelsize=20) \n",
    "matplotlib.rc('ytick', labelsize=20)\n",
    "\n",
    "def get_interval_histogram(name):\n",
    "    observer = Tau.TauObserver(name)\n",
    "    observer.read_data(step=-1)\n",
    "    sorted_sim = observer.rank().numpy()\n",
    "    total_samples = sorted_sim.shape[1]\n",
    "    n_interval = 100\n",
    "    interval_width = total_samples//n_interval\n",
    "    interval_means = []\n",
    "    for i in range(n_interval):\n",
    "        interval_means.append(sorted_sim[:, i*interval_width:(i+1)*interval_width].mean())\n",
    "    return interval_means\n",
    "\n",
    "subnames= ['point_t7','point_t20', 'point_t90', 'hardneg_t7', 'hardneg_t20', 'hardneg_t50']\n",
    "names = ['/matrix/CLS/cifar100/{}/similarities/'.format(n) for n in subnames]\n",
    "interval_means = get_interval_histogram(names[0])\n",
    "# interval_means1 = get_interval_histogram(names[1])\n",
    "# interval_means2 = get_interval_histogram(names[2])\n",
    "interval_means3 = get_interval_histogram(names[5])\n",
    "\n",
    "plt.plot(list(range(len(interval_means))), interval_means, label='t7') \n",
    "# plt.plot(list(range(len(interval_means))), interval_means1, label='t20') \n",
    "# plt.plot(list(range(len(interval_means))), interval_means2, label='t90') \n",
    "plt.plot(list(range(len(interval_means3))), interval_means3, label='hard50') \n",
    "plt.legend()\n",
    "plt.show()\n",
    "\n",
    "# plt.bar(list(range(len(interval_means))), interval_means)"
   ]
  },
  {
   "cell_type": "markdown",
   "metadata": {},
   "source": [
    "# Local Separation v.s. Global Uniformity"
   ]
  },
  {
   "cell_type": "code",
   "execution_count": 66,
   "metadata": {},
   "outputs": [
    {
     "name": "stdout",
     "output_type": "stream",
     "text": [
      "sim_epoch200.pth/matrix/CLS/ImageNet100/point_t7/similarities/ tensor(0.0199)\n",
      "sim_epoch200.pth/matrix/CLS/ImageNet100/point_t20/similarities/ tensor(0.0220)\n",
      "sim_epoch200.pth/matrix/CLS/ImageNet100/point_t30/similarities/ tensor(0.0249)\n",
      "sim_epoch200.pth/matrix/CLS/ImageNet100/point_t50/similarities/ tensor(0.0307)\n",
      "sim_epoch200.pth/matrix/CLS/ImageNet100/point_t60/similarities/ tensor(0.0336)\n",
      "sim_epoch200.pth/matrix/CLS/ImageNet100/point_t70/similarities/ tensor(0.0360)\n"
     ]
    }
   ],
   "source": [
    "import Tau\n",
    "import matplotlib.pyplot as plt\n",
    "import matplotlib\n",
    "import numpy as np\n",
    "import os\n",
    "import torch\n",
    "import pandas as pd\n",
    "plt.rc('font',family='Times New Roman')\n",
    "matplotlib.rc('xtick', labelsize=20) \n",
    "matplotlib.rc('ytick', labelsize=20)\n",
    "\n",
    "def get_uniformity(name, t=2):\n",
    "    observer = Tau.TauObserver(name)\n",
    "    observer.read_data(step=-1)\n",
    "#     sorted_sim = observer.rank().numpy()\n",
    "    Gt = torch.exp(2*t*observer.similarities-2*t)\n",
    "    return Gt.mean()\n",
    "\n",
    "# subnames= ['point_t5', 'point_t7', 'point_t10', 'point_t20', 'point_t30', 'point_t40', 'point_t50', 'point_t60', 'point_t70', 'point_t80', 'point_t90', 'point_t100']\n",
    "subnames= ['point_t7', 'point_t20', 'point_t30', 'point_t50', 'point_t60', 'point_t70']\n",
    "subnames= ['point_t7', 'point_t20', 'point_t30', 'point_t50', 'point_t60', 'point_t70']\n",
    "# subnames= ['hardneg_t5', 'hardneg_t7', 'hardneg_t10', 'hardneg_t20', 'hardneg_t30', 'hardneg_t40', 'hardneg_t50', 'hardneg_t60', 'hardneg_t70', 'hardneg_t80', 'hardneg_t90', 'hardneg_t100']\n",
    "# subnames = ['flat', 'hardflat']\n",
    "# t = [5, 7, 10, 20,30,40,50,60,70,80,90,100]\n",
    "names = ['/matrix/CLS/ImageNet100/{}/similarities/'.format(n) for n in subnames]\n",
    "uniformities = []\n",
    "for name in names:\n",
    "    uniformity = get_uniformity(name, t=2)\n",
    "    print(name, uniformity)\n",
    "    uniformities.append(uniformity.item())\n",
    "    "
   ]
  },
  {
   "cell_type": "code",
   "execution_count": 67,
   "metadata": {},
   "outputs": [
    {
     "data": {
      "text/plain": [
       "array([3.91735357, 3.81642636, 3.69254289, 3.48187519, 3.39417776,\n",
       "       3.32285091])"
      ]
     },
     "execution_count": 67,
     "metadata": {},
     "output_type": "execute_result"
    }
   ],
   "source": [
    "-np.log(np.array(uniformities))"
   ]
  },
  {
   "cell_type": "code",
   "execution_count": 26,
   "metadata": {},
   "outputs": [
    {
     "data": {
      "text/plain": [
       "([<matplotlib.axis.XTick at 0x7f398f1f6210>,\n",
       "  <matplotlib.axis.XTick at 0x7f398f2d8350>,\n",
       "  <matplotlib.axis.XTick at 0x7f398f301f50>,\n",
       "  <matplotlib.axis.XTick at 0x7f398f21ca90>,\n",
       "  <matplotlib.axis.XTick at 0x7f398f1a54d0>,\n",
       "  <matplotlib.axis.XTick at 0x7f398f1a5310>,\n",
       "  <matplotlib.axis.XTick at 0x7f398f1ab210>,\n",
       "  <matplotlib.axis.XTick at 0x7f398f1ab790>,\n",
       "  <matplotlib.axis.XTick at 0x7f398f1ab610>,\n",
       "  <matplotlib.axis.XTick at 0x7f398f1b1450>,\n",
       "  <matplotlib.axis.XTick at 0x7f398f1ab690>,\n",
       "  <matplotlib.axis.XTick at 0x7f398f1b1590>],\n",
       " <a list of 12 Text xticklabel objects>)"
      ]
     },
     "execution_count": 26,
     "metadata": {},
     "output_type": "execute_result"
    },
    {
     "data": {
      "image/png": "[encoded data removed]",
      "text/plain": [
       "<Figure size 432x288 with 1 Axes>"
      ]
     },
     "metadata": {
      "needs_background": "light"
     },
     "output_type": "display_data"
    }
   ],
   "source": [
    "plt.plot(np.array(t)/100., np.log(uniformities))\n",
    "plt.xticks(np.array(t)/100)"
   ]
  },
  {
   "cell_type": "code",
   "execution_count": 23,
   "metadata": {},
   "outputs": [
    {
     "data": {
      "text/plain": [
       "array([-3.84921747, -3.86154787, -3.84844626, -3.72506189, -3.60424558,\n",
       "       -3.47282237, -3.39557138, -3.30470594, -3.18136268, -3.07988637,\n",
       "       -3.10748887, -2.96076849])"
      ]
     },
     "execution_count": 23,
     "metadata": {},
     "output_type": "execute_result"
    }
   ],
   "source": [
    "np.log(uniformities)"
   ]
  },
  {
   "cell_type": "code",
   "execution_count": 27,
   "metadata": {},
   "outputs": [
    {
     "data": {
      "text/plain": [
       "array([-3.85236707, -3.86229816, -3.8500186 , -3.73940032, -3.59527929,\n",
       "       -3.45395498, -3.33805813, -3.25955178, -3.17243705, -3.08452156,\n",
       "       -2.94623778, -2.96449517])"
      ]
     },
     "execution_count": 27,
     "metadata": {},
     "output_type": "execute_result"
    }
   ],
   "source": [
    "np.log(uniformities)"
   ]
  },
  {
   "cell_type": "markdown",
   "metadata": {},
   "source": [
    "# Tolerance Measure"
   ]
  },
  {
   "cell_type": "code",
   "execution_count": 62,
   "metadata": {},
   "outputs": [
    {
     "name": "stdout",
     "output_type": "stream",
     "text": [
      "Files already downloaded and verified\n",
      "Files already downloaded and verified\n",
      "Using downloaded and verified file: ../data/train_32x32.mat\n"
     ]
    }
   ],
   "source": [
    "import cifar\n",
    "import Tau\n",
    "import matplotlib.pyplot as plt\n",
    "import matplotlib\n",
    "import numpy as np\n",
    "import os\n",
    "import torch\n",
    "import pandas as pd\n",
    "plt.rc('font',family='Times New Roman')\n",
    "matplotlib.rc('xtick', labelsize=20) \n",
    "matplotlib.rc('ytick', labelsize=20)\n",
    "cifar10_train_ordered_label = np.array(cifar.get_labels('cifar10'))\n",
    "cifar100_train_ordered_label = np.array(cifar.get_labels('cifar100'))\n",
    "svhn_train_ordered_label = np.array(cifar.get_svhn_labels())\n",
    "def get_sameclass_similarities(name, dataset='cifar100'):\n",
    "    if dataset == 'cifar10':\n",
    "        train_ordered_label = cifar10_train_ordered_label\n",
    "    elif dataset == 'cifar100':\n",
    "        train_ordered_label = cifar100_train_ordered_label\n",
    "    elif dataset == 'svhn':\n",
    "        train_ordered_label = svhn_train_ordered_label\n",
    "    observer = Tau.TauObserver(name)\n",
    "    observer.read_data(step=-1)\n",
    "#     sorted_sim = observer.rank().numpy()\n",
    "    batch_labels = train_ordered_label[observer.indices]\n",
    "    B = batch_labels.shape[0]\n",
    "    N = train_ordered_label.shape[0]\n",
    "    mask = (batch_labels.reshape(B, 1) == train_ordered_label.reshape(1, N))\n",
    "    pos_sim_sum = (observer.similarities.detach().cpu().numpy() * mask).sum(axis=1)\n",
    "    n_pos = mask.sum(axis=1)\n",
    "    pos_sim_mean = pos_sim_sum/n_pos\n",
    "    return pos_sim_mean, observer"
   ]
  },
  {
   "cell_type": "code",
   "execution_count": 63,
   "metadata": {},
   "outputs": [
    {
     "name": "stdout",
     "output_type": "stream",
     "text": [
      "sim_epoch201.pthtensor(0.9778)\n",
      "sim_epoch200.pthtensor(0.9315)\n"
     ]
    }
   ],
   "source": [
    "#subnames= ['point_t5', 'point_t7', 'point_t10', 'point_t20', 'point_t30', 'point_t40', 'point_t50', 'point_t60', 'point_t70', 'point_t80', 'point_t90', 'point_t100']\n",
    "subnames= ['hardneg_t5', 'hardneg_t7', 'hardneg_t10', 'hardneg_t20', 'hardneg_t30', 'hardneg_t40', 'hardneg_t50', 'hardneg_t60', 'hardneg_t70', 'hardneg_t80', 'hardneg_t90', 'hardneg_t100']\n",
    "# subnames = ['hardneg_t140']\n",
    "subnames = ['flat', 'hardflat']\n",
    "names = ['/matrix/CLS/svhn/{}/similarities/'.format(n) for n in subnames]\n",
    "res = []\n",
    "for name in names:\n",
    "    a, observer = get_sameclass_similarities(name, 'svhn')\n",
    "    print(observer.positive_similarities.mean())\n",
    "    res.append(a.mean())"
   ]
  },
  {
   "cell_type": "code",
   "execution_count": 65,
   "metadata": {},
   "outputs": [
    {
     "data": {
      "text/plain": [
       "[0.0052705722024880474, 0.026717604513467243]"
      ]
     },
     "execution_count": 65,
     "metadata": {},
     "output_type": "execute_result"
    }
   ],
   "source": [
    "res"
   ]
  },
  {
   "cell_type": "code",
   "execution_count": 2,
   "metadata": {},
   "outputs": [
    {
     "name": "stdout",
     "output_type": "stream",
     "text": [
      "sim_epoch200.pthsim_epoch200.pthsim_epoch200.pthsim_epoch200.pthsim_epoch200.pthsim_epoch200.pthsim_epoch200.pthsim_epoch200.pthsim_epoch200.pthsim_epoch200.pthsim_epoch200.pthsim_epoch200.pth"
     ]
    }
   ],
   "source": [
    "subnames= ['point_t5', 'point_t7', 'point_t10', 'point_t20', 'point_t30', 'point_t40', 'point_t50', 'point_t60', 'point_t70', 'point_t80', 'point_t90', 'point_t100']\n",
    "names = ['/matrix/CLS//{}/similarities/'.format(n) for n in subnames]\n",
    "res = []\n",
    "for name in names:\n",
    "    a = get_sameclass_similarities(name, 'svhn')\n",
    "    res.append(a.mean())"
   ]
  },
  {
   "cell_type": "code",
   "execution_count": 3,
   "metadata": {},
   "outputs": [
    {
     "data": {
      "text/plain": [
       "[0.05111906886616945,\n",
       " 0.043551602516961094,\n",
       " 0.04958065179664493,\n",
       " 0.10699635713481902,\n",
       " 0.17770200372428893,\n",
       " 0.23634294857339858,\n",
       " 0.26939098556394575,\n",
       " 0.30619257536334993,\n",
       " 0.33324287887878423,\n",
       " 0.355741268539238,\n",
       " 0.39796285207891463,\n",
       " 0.3717366165009498]"
      ]
     },
     "execution_count": 3,
     "metadata": {},
     "output_type": "execute_result"
    }
   ],
   "source": [
    "res"
   ]
  },
  {
   "cell_type": "markdown",
   "metadata": {},
   "source": [
    "# Aggregation of Uniformity & Tolerance"
   ]
  },
  {
   "cell_type": "code",
   "execution_count": 1,
   "metadata": {},
   "outputs": [
    {
     "name": "stdout",
     "output_type": "stream",
     "text": [
      "Files already downloaded and verified\n",
      "Files already downloaded and verified\n",
      "Using downloaded and verified file: ../data/train_32x32.mat\n"
     ]
    }
   ],
   "source": [
    "import cifar\n",
    "import imagenet\n",
    "import Tau\n",
    "import matplotlib.pyplot as plt\n",
    "import matplotlib\n",
    "import numpy as np\n",
    "import os\n",
    "import torch\n",
    "import pandas as pd\n",
    "plt.rc('font',family='Times New Roman')\n",
    "matplotlib.rc('xtick', labelsize=20) \n",
    "matplotlib.rc('ytick', labelsize=20)\n",
    "cifar10_train_ordered_label = np.array(cifar.get_labels('cifar10'))\n",
    "cifar100_train_ordered_label = np.array(cifar.get_labels('cifar100'))\n",
    "svhn_train_ordered_label = np.array(cifar.get_svhn_labels())\n",
    "imagenet100_train_oredered_label = np.array(imagenet.get_labels('imagenet100'))\n",
    "imagenet_train_oredered_label = np.array(imagenet.get_labels('imagenet'))\n",
    "\n",
    "\n",
    "def get_uniformity_tolerance(name, t=2, dataset='cifar10'):\n",
    "    if dataset == 'cifar10':\n",
    "        train_ordered_label = cifar10_train_ordered_label\n",
    "    elif dataset == 'cifar100':\n",
    "        train_ordered_label = cifar100_train_ordered_label\n",
    "    elif dataset == 'svhn':\n",
    "        train_ordered_label = svhn_train_ordered_label\n",
    "    elif dataset == 'ImageNet100':\n",
    "        train_ordered_label = imagenet100_train_oredered_label\n",
    "    elif dataset == 'ImageNet':\n",
    "        train_ordered_label = imagenet_train_oredered_label\n",
    "        \n",
    "    observer = Tau.TauObserver(name)\n",
    "    observer.read_data(step=-1)\n",
    "#     sorted_sim = observer.rank().numpy()\n",
    "    Gt = torch.exp(2*t*observer.similarities-2*t)\n",
    "    \n",
    "    batch_labels = train_ordered_label[observer.indices]\n",
    "    B = batch_labels.shape[0]\n",
    "    N = train_ordered_label.shape[0]\n",
    "    mask = (batch_labels.reshape(B, 1) == train_ordered_label.reshape(1, N))\n",
    "    pos_sim_sum = (observer.similarities.detach().cpu().numpy() * mask).sum(axis=1)\n",
    "    n_pos = mask.sum(axis=1)\n",
    "    pos_sim_mean = pos_sim_sum/n_pos\n",
    "    \n",
    "    return Gt.mean(), pos_sim_mean.mean(), observer"
   ]
  },
  {
   "cell_type": "code",
   "execution_count": 2,
   "metadata": {},
   "outputs": [],
   "source": [
    "def generate_ut(dataset, loss_type, ts):\n",
    "    subnames = ['{}_t'.format(loss_type)+str(t) for t in ts]\n",
    "    names = ['/matrix/CLS/{}/{}/similarities/'.format(dataset, n) for n in subnames]\n",
    "    uniformities = []\n",
    "    tolerances = []\n",
    "    for name in names:\n",
    "        a,b,c = get_uniformity_tolerance(name, dataset=dataset)\n",
    "        uniformity = -np.log(a.item())\n",
    "        tolerance = b\n",
    "        uniformities.append(uniformity)\n",
    "        tolerances.append(tolerance)\n",
    "    return uniformities, tolerances"
   ]
  },
  {
   "cell_type": "code",
   "execution_count": 81,
   "metadata": {},
   "outputs": [
    {
     "name": "stdout",
     "output_type": "stream",
     "text": [
      "sim_epoch200.pthsim_epoch200.pthsim_epoch200.pthsim_epoch200.pthsim_epoch200.pthsim_epoch200.pthsim_epoch200.pthsim_epoch200.pthsim_epoch200.pthsim_epoch200.pthsim_epoch200.pthsim_epoch200.pth([3.8523668914998983, 3.8622980665191005, 3.85001860136528, 3.7394008651699373, 3.595279091030404, 3.4539552113901517, 3.3380581258220214, 3.259551972336615, 3.1724373213990704, 3.0845217251448833, 2.946237989379716, 2.9644952434252643], [0.05111906886616945, 0.043551602516961094, 0.04958065179664493, 0.10699635713481902, 0.17770200372428893, 0.23634294857339858, 0.26939098556394575, 0.30619257536334993, 0.33324287887878423, 0.355741268539238, 0.39796285207891463, 0.3717366165009498])\n"
     ]
    }
   ],
   "source": [
    "print(generate_ut('cifar10', 'point', [5,7,10,20,30,40,50,60,70,80,90,100]))"
   ]
  },
  {
   "cell_type": "code",
   "execution_count": 3,
   "metadata": {},
   "outputs": [
    {
     "name": "stdout",
     "output_type": "stream",
     "text": [
      "sim_epoch200.pth\n",
      "sim_epoch200.pth\n",
      "sim_epoch200.pth\n",
      "sim_epoch200.pth\n",
      "sim_epoch200.pth\n",
      "sim_epoch200.pth\n",
      "([3.9173535718228543, 3.816426363386423, 3.692542886350796, 3.4818751912644776, 3.3941777616068975, 3.322850914846591], [0.09310393355298018, 0.2825006990850459, 0.37952468246817544, 0.40083331468485883, 0.4164413174509038, 0.4266132079108899])\n"
     ]
    }
   ],
   "source": [
    "print(generate_ut('ImageNet100', 'point', [7,20,30,50,60,70]))"
   ]
  },
  {
   "cell_type": "code",
   "execution_count": 5,
   "metadata": {},
   "outputs": [
    {
     "name": "stdout",
     "output_type": "stream",
     "text": [
      "sim_epoch200.pth\n",
      "sim_epoch200.pth\n",
      "sim_epoch200.pth\n",
      "sim_epoch200.pth\n",
      "sim_epoch200.pth\n",
      "sim_epoch200.pth\n",
      "sim_epoch200.pth\n",
      "sim_epoch200.pth\n",
      "([3.929424351723095, 3.9330609137339243, 3.931833386946146, 3.930393909617726, 3.92935214182538, 3.9279586217701037, 3.9269361185250045, 3.925880097095179], [0.06722458918109554, 0.0824702304580113, 0.09619998507055529, 0.10342375709094648, 0.10804080489889438, 0.1127790641436703, 0.12090402151614853, 0.12421998009511534])\n"
     ]
    }
   ],
   "source": [
    "print(generate_ut('ImageNet100', 'hardneg', [7,20,30,40,50,60,70,80]))"
   ]
  },
  {
   "cell_type": "code",
   "execution_count": 7,
   "metadata": {},
   "outputs": [
    {
     "name": "stdout",
     "output_type": "stream",
     "text": [
      "sim_epoch202.pth\n"
     ]
    },
    {
     "data": {
      "text/plain": [
       "(tensor(0.1751), 0.5282327017036873, <Tau.TauObserver at 0x7f365984de50>)"
      ]
     },
     "execution_count": 7,
     "metadata": {},
     "output_type": "execute_result"
    }
   ],
   "source": [
    "get_uniformity_tolerance('/matrix/CLS/ImageNet100/flat/similarities/', dataset='ImageNet100')"
   ]
  },
  {
   "cell_type": "code",
   "execution_count": null,
   "metadata": {},
   "outputs": [
    {
     "data": {
      "text/plain": [
       "1.742398039690331"
      ]
     },
     "execution_count": 8,
     "metadata": {},
     "output_type": "execute_result"
    }
   ],
   "source": [
    "-np.log(0.1751)"
   ]
  },
  {
   "cell_type": "code",
   "execution_count": null,
   "metadata": {},
   "outputs": [],
   "source": []
  },
  {
   "cell_type": "code",
   "execution_count": null,
   "metadata": {},
   "outputs": [],
   "source": []
  }
 ],
 "metadata": {
  "kernelspec": {
   "display_name": "Python 3",
   "language": "python",
   "name": "python3"
  },
  "language_info": {
   "codemirror_mode": {
    "name": "ipython",
    "version": 3
   },
   "file_extension": ".py",
   "mimetype": "text/x-python",
   "name": "python",
   "nbconvert_exporter": "python",
   "pygments_lexer": "ipython3",
   "version": "3.7.4"
  }
 },
 "nbformat": 4,
 "nbformat_minor": 4
}
