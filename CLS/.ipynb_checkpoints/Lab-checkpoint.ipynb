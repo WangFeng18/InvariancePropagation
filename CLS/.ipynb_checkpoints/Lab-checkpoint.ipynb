{
 "cells": [
  {
   "cell_type": "code",
   "execution_count": 1,
   "metadata": {},
   "outputs": [],
   "source": [
    "import Tau\n",
    "import numpy as np\n",
    "import matplotlib.pyplot as plt"
   ]
  },
  {
   "cell_type": "code",
   "execution_count": 2,
   "metadata": {},
   "outputs": [
    {
     "name": "stdout",
     "output_type": "stream",
     "text": [
      "sim_epoch0.pth  \t0.00140\t\t0.00000\t\t[0.8022016  0.79470736 0.7912323  0.7886354  0.7861445  0.7840874\n",
      " 0.7823357  0.7809109  0.779726   0.7785739 ]\n",
      "sim_epoch10.pth \t0.85551\t\t0.00034\t\t[0.9763905  0.9717255  0.96886516 0.966744   0.965014   0.96354216\n",
      " 0.9622399  0.96106845 0.9600229  0.9590529 ]\n",
      "sim_epoch20.pth \t0.79942\t\t0.00862\t\t[0.89707696 0.8766222  0.8654622  0.8576092  0.8513176  0.84622\n",
      " 0.84178585 0.83779764 0.83418787 0.8310063 ]\n",
      "sim_epoch30.pth \t0.81229\t\t0.03430\t\t[0.8655966 0.8194394 0.8018966 0.7904174 0.7817658 0.7747056 0.7688194\n",
      " 0.763654  0.7591503 0.7551384]\n",
      "sim_epoch40.pth \t0.81581\t\t0.06908\t\t[0.8514861  0.7766251  0.7538015  0.74043566 0.7304311  0.7228118\n",
      " 0.71615887 0.7105116  0.70554245 0.7011656 ]\n",
      "sim_epoch50.pth \t0.81636\t\t0.10086\t\t[0.84252524 0.7461498  0.72104985 0.70598817 0.69582725 0.6874978\n",
      " 0.6807762  0.6750273  0.6697994  0.6652702 ]\n",
      "sim_epoch60.pth \t0.81701\t\t0.13652\t\t[0.83655673 0.7200065  0.69252896 0.6770348  0.6662224  0.65761703\n",
      " 0.65054834 0.64442044 0.6389946  0.63426286]\n",
      "sim_epoch70.pth \t0.81529\t\t0.16960\t\t[0.83296525 0.7003309  0.6712755  0.6548338  0.6436256  0.63461274\n",
      " 0.62722826 0.6209768  0.61553395 0.6107104 ]\n",
      "sim_epoch80.pth \t0.81559\t\t0.18858\t\t[0.8296379  0.6868862  0.65651506 0.64045197 0.6288575  0.6199978\n",
      " 0.61249924 0.6061493  0.6007528  0.59587675]\n",
      "sim_epoch90.pth \t0.81345\t\t0.20795\t\t[0.8268351  0.67742276 0.646345   0.6293133  0.6175763  0.6085681\n",
      " 0.6010114  0.5946321  0.58909464 0.5841046 ]\n",
      "sim_epoch100.pth\t0.81629\t\t0.22842\t\t[0.828901   0.66886157 0.637423   0.6199696  0.608116   0.59910554\n",
      " 0.59181666 0.58535904 0.57980216 0.5747385 ]\n",
      "sim_epoch110.pth\t0.81428\t\t0.23694\t\t[0.8247374  0.6615452  0.6296421  0.61197007 0.60029143 0.5909658\n",
      " 0.58331233 0.5767634  0.57120275 0.5661583 ]\n",
      "sim_epoch120.pth\t0.81689\t\t0.25681\t\t[0.8277647  0.65716124 0.62293106 0.6055163  0.593656   0.5843947\n",
      " 0.576736   0.57028526 0.5645705  0.55953974]\n",
      "sim_epoch130.pth\t0.81752\t\t0.26505\t\t[0.8275386  0.65308666 0.61915123 0.60140914 0.58952194 0.58024186\n",
      " 0.5724276  0.5658256  0.56010854 0.5549482 ]\n",
      "sim_epoch140.pth\t0.81786\t\t0.27535\t\t[0.82715493 0.6486086  0.6152085  0.5974918  0.5853332  0.57604325\n",
      " 0.5683586  0.5616289  0.55599844 0.5509608 ]\n",
      "sim_epoch150.pth\t0.81413\t\t0.27755\t\t[0.8240161  0.643806   0.6112205  0.5935078  0.58114856 0.5716282\n",
      " 0.5638702  0.5571981  0.5514183  0.5463948 ]\n",
      "sim_epoch160.pth\t0.83434\t\t0.32442\t\t[0.84248716 0.6485944  0.61326844 0.59455836 0.58205885 0.5722475\n",
      " 0.5643571  0.5576096  0.551766   0.5464666 ]\n",
      "sim_epoch170.pth\t0.85316\t\t0.39426\t\t[0.8593816  0.64168304 0.6044319  0.58541906 0.5722924  0.56229746\n",
      " 0.554085   0.54739285 0.5414566  0.5362644 ]\n",
      "sim_epoch180.pth\t0.85851\t\t0.40869\t\t[0.8636315  0.6375888  0.60034937 0.5811706  0.56817067 0.5585354\n",
      " 0.5503657  0.5434284  0.5374454  0.5322623 ]\n",
      "sim_epoch190.pth\t0.85865\t\t0.41695\t\t[0.8642287  0.6368162  0.59869856 0.5795637  0.5663596  0.55628294\n",
      " 0.54820853 0.54136574 0.53541017 0.53017336]\n"
     ]
    },
    {
     "name": "stderr",
     "output_type": "stream",
     "text": [
      "/home/user/instance_discrimination/InvariancePropagation/CLS/Tau.py:44: RuntimeWarning: divide by zero encountered in double_scalars\n",
      "  return (- 1/tau * (1-self.softmax(tau))).mean().item()\n"
     ]
    },
    {
     "data": {
      "image/png": "[encoded data removed]",
      "text/plain": [
       "<Figure size 432x288 with 1 Axes>"
      ]
     },
     "metadata": {
      "needs_background": "light"
     },
     "output_type": "display_data"
    },
    {
     "name": "stdout",
     "output_type": "stream",
     "text": [
      "0.670598566532135\n"
     ]
    }
   ],
   "source": [
    "observer = Tau.TauObserver('/matrix/CLS/cifar100/point_t7/similarities/')\n",
    "names = ['sim_epoch{}.pth'.format(a) for a in range(0,200,10)]\n",
    "for name in names:\n",
    "    print(name.ljust(16), end=\"\\t\")\n",
    "    observer.read_data(name=name)\n",
    "    observer.show_mean()\n",
    "    observer.show_meanP(0.07)\n",
    "    observer.rank()\n",
    "    print(observer.sorted_sim[:10])\n",
    "plt.xticks(np.linspace(0,1,11))\n",
    "observer.plot_dsp()\n",
    "print(observer.delta(0.07))"
   ]
  },
  {
   "cell_type": "code",
   "execution_count": 8,
   "metadata": {},
   "outputs": [
    {
     "name": "stdout",
     "output_type": "stream",
     "text": [
      "tensor(61.2087, device='cuda:2', grad_fn=<MeanBackward0>)\n",
      "1.0367841720581055\n"
     ]
    }
   ],
   "source": [
    "print(observer.delta(0.09))"
   ]
  },
  {
   "cell_type": "code",
   "execution_count": null,
   "metadata": {},
   "outputs": [
    {
     "name": "stdout",
     "output_type": "stream",
     "text": [
      "sim_epoch0.pth  \t-0.00205\t\t0.00000\t\t[0.80447185 0.79738855 0.7945486  0.79242545 0.7906044  0.78898156\n",
      " 0.78762573 0.7864582  0.7853094  0.78428835]\n",
      "sim_epoch10.pth \t0.99234\t\t0.00003\t\t[0.9992812  0.9991243  0.99903184 0.9989499  0.9988841  0.99882984\n",
      " 0.9987787  0.9987329  0.9986948  0.99866104]\n",
      "sim_epoch20.pth \t0.84752\t\t0.00094\t\t[0.94685096 0.93790215 0.93255574 0.92871356 0.9255776  0.92297584\n",
      " 0.9207074  0.918728   0.9169373  0.9153011 ]\n",
      "sim_epoch30.pth \t0.79626\t\t0.02324\t\t[0.86491364 0.82865846 0.8128803  0.8023087  0.79446566 0.78802776\n",
      " 0.7825243  0.7776574  0.77330035 0.7694237 ]\n",
      "sim_epoch40.pth \t0.80714\t\t0.05916\t\t[0.8462775  0.77936256 0.75795925 0.74455553 0.7350263  0.72741884\n",
      " 0.72091955 0.71538883 0.7105597  0.70625985]\n",
      "sim_epoch50.pth \t0.80876\t\t0.09840\t\t[0.8358981  0.7412153  0.71605146 0.7013288  0.6908143  0.68271184\n",
      " 0.67590106 0.6699536  0.6647791  0.6602432 ]\n",
      "sim_epoch60.pth \t0.80762\t\t0.14011\t\t[0.82890314 0.7106078  0.68249476 0.66655976 0.65571886 0.64698946\n",
      " 0.63989097 0.6339154  0.62840897 0.6237431 ]\n",
      "sim_epoch70.pth \t0.81139\t\t0.17574\t\t[0.827464   0.6892808  0.65994895 0.64351785 0.63204056 0.62328964\n",
      " 0.6157739  0.6095463  0.604173   0.59940284]\n",
      "sim_epoch80.pth \t0.80994\t\t0.19848\t\t[0.8233728  0.67370164 0.6433765  0.6265147  0.61501133 0.6059927\n",
      " 0.5985888  0.59216994 0.58660066 0.58184654]\n",
      "sim_epoch90.pth \t0.80836\t\t0.21644\t\t[0.8205157  0.6628049  0.6303686  0.6133965  0.6016631  0.59297657\n",
      " 0.5855872  0.5793475  0.5739684  0.56918865]\n",
      "sim_epoch100.pth\t0.80586\t\t0.23530\t\t[0.8176784  0.6510263  0.61855084 0.6006328  0.5888391  0.5797833\n",
      " 0.5723337  0.56602895 0.5605234  0.5555992 ]\n",
      "sim_epoch110.pth\t0.80575\t\t0.25214\t\t[0.8161388  0.64301896 0.6090271  0.59141403 0.5789981  0.56970227\n",
      " 0.56206    0.5554835  0.54975015 0.5448035 ]\n",
      "sim_epoch120.pth\t0.80677\t\t0.26797\t\t[0.817199   0.6342704  0.6017024  0.58377975 0.57180095 0.5624606\n",
      " 0.5549929  0.5486291  0.542979   0.5380689 ]\n",
      "sim_epoch130.pth\t0.80601\t\t0.27549\t\t[0.8158731  0.6309898  0.5969443  0.57871646 0.56647253 0.5570466\n",
      " 0.5494014  0.5428961  0.5371595  0.53224957]\n",
      "sim_epoch140.pth\t0.80608\t\t0.28509\t\t"
     ]
    }
   ],
   "source": [
    "observer = Tau.TauObserver('/matrix/CLS/cifar100/hardneg_t7/similarities/')\n",
    "names = ['sim_epoch{}.pth'.format(a) for a in range(0,200,10)]\n",
    "for name in names:\n",
    "    print(name.ljust(16), end=\"\\t\")\n",
    "    observer.read_data(name=name)\n",
    "    observer.show_mean()\n",
    "    observer.show_meanP(0.07)\n",
    "    observer.rank()\n",
    "    print(observer.sorted_sim[:10])\n",
    "plt.xticks(np.linspace(0,1,21))\n",
    "observer.plot_dsp()"
   ]
  },
  {
   "cell_type": "code",
   "execution_count": null,
   "metadata": {},
   "outputs": [],
   "source": [
    "print(observer.delta(0.06))"
   ]
  },
  {
   "cell_type": "code",
   "execution_count": 8,
   "metadata": {},
   "outputs": [
    {
     "name": "stdout",
     "output_type": "stream",
     "text": [
      "sim_epoch0.pth  \t-0.00205\t\t0.00000\n",
      "sim_epoch10.pth \t0.99234\t\t0.00003\n",
      "sim_epoch20.pth \t0.84752\t\t0.00094\n",
      "sim_epoch30.pth \t0.79626\t\t0.02324\n",
      "sim_epoch40.pth \t0.80714\t\t0.05916\n",
      "sim_epoch50.pth \t0.80876\t\t0.09840\n",
      "sim_epoch60.pth \t0.80762\t\t0.14011\n",
      "sim_epoch70.pth \t0.81139\t\t0.17574\n",
      "sim_epoch80.pth \t0.80994\t\t0.19848\n",
      "sim_epoch90.pth \t0.80836\t\t0.21644\n",
      "sim_epoch100.pth\t0.80586\t\t0.23530\n",
      "sim_epoch110.pth\t0.80575\t\t0.25214\n",
      "sim_epoch120.pth\t0.80677\t\t0.26797\n",
      "sim_epoch130.pth\t0.80601\t\t0.27549\n",
      "sim_epoch140.pth\t0.80608\t\t0.28509\n",
      "sim_epoch150.pth\t0.80406\t\t0.28704\n",
      "sim_epoch160.pth\t0.82684\t\t0.34368\n",
      "sim_epoch170.pth\t0.84967\t\t0.41798\n",
      "sim_epoch180.pth\t0.84824\t\t0.42625\n",
      "sim_epoch190.pth\t0.84869\t\t0.43378\n"
     ]
    },
    {
     "data": {
      "image/png": "[encoded data removed]",
      "text/plain": [
       "<Figure size 432x288 with 1 Axes>"
      ]
     },
     "metadata": {
      "needs_background": "light"
     },
     "output_type": "display_data"
    }
   ],
   "source": [
    "observer = Tau.TauObserver('/matrix/CLS/cifar100/hardneg_t7/similarities/')\n",
    "names = ['sim_epoch{}.pth'.format(a) for a in range(0,200,10)]\n",
    "for name in names:\n",
    "    print(name.ljust(16), end=\"\\t\")\n",
    "    observer.read_data(name=name)\n",
    "    observer.show_mean()\n",
    "    observer.show_meanP(0.07)\n",
    "plt.xticks(np.linspace(0,1,11))\n",
    "observer.plot_dsp()"
   ]
  },
  {
   "cell_type": "code",
   "execution_count": 10,
   "metadata": {},
   "outputs": [
    {
     "name": "stdout",
     "output_type": "stream",
     "text": [
      "tensor(48.2013, device='cuda:2', grad_fn=<MeanBackward0>)\n"
     ]
    },
    {
     "data": {
      "text/plain": [
       "0.6633942127227783"
      ]
     },
     "execution_count": 10,
     "metadata": {},
     "output_type": "execute_result"
    }
   ],
   "source": [
    "observer.delta(0.08)"
   ]
  },
  {
   "cell_type": "code",
   "execution_count": 4,
   "metadata": {},
   "outputs": [
    {
     "name": "stdout",
     "output_type": "stream",
     "text": [
      "sim_epoch0.pth\t-0.0020473068580031395\t4.6407674147985745e-08\n",
      "sim_epoch10.pth\t0.9923432469367981\t2.962317012134008e-05\n",
      "sim_epoch20.pth\t0.8475151062011719\t0.0009352656779810786\n",
      "sim_epoch30.pth\t0.7962639927864075\t0.023243678733706474\n",
      "sim_epoch40.pth\t0.8071414828300476\t0.059161167591810226\n",
      "sim_epoch50.pth\t0.8087621331214905\t0.09839576482772827\n",
      "sim_epoch60.pth\t0.8076173067092896\t0.14010867476463318\n",
      "sim_epoch70.pth\t0.8113898634910583\t0.17574483156204224\n",
      "sim_epoch80.pth\t0.8099377751350403\t0.19847629964351654\n",
      "sim_epoch90.pth\t0.8083560466766357\t0.21643966436386108\n",
      "sim_epoch100.pth\t0.8058632016181946\t0.23529662191867828\n",
      "sim_epoch110.pth\t0.8057480454444885\t0.25213658809661865\n",
      "sim_epoch120.pth\t0.8067725300788879\t0.2679723799228668\n",
      "sim_epoch130.pth\t0.8060062527656555\t0.27548885345458984\n",
      "sim_epoch140.pth\t0.8060843348503113\t0.2850865423679352\n",
      "sim_epoch150.pth\t0.8040611147880554\t0.2870398461818695\n",
      "sim_epoch160.pth\t0.8268410563468933\t0.3436771631240845\n",
      "sim_epoch170.pth\t0.8496665358543396\t0.417978972196579\n",
      "sim_epoch180.pth\t0.8482356667518616\t0.4262515604496002\n",
      "sim_epoch190.pth\t0.8486886024475098\t0.43378424644470215\n"
     ]
    }
   ],
   "source": [
    "observer = Tau.TauObserver('/matrix/CLS/cifar100/hardneg_t7/similarities/')\n",
    "names = ['sim_epoch{}.pth'.format(a) for a in range(0,200,10)]\n",
    "for name in names:\n",
    "    print(name, end=\"\\t\")\n",
    "    observer.read_data(name=name)\n",
    "    observer.show_mean()\n",
    "    observer.show_meanP(0.07)"
   ]
  },
  {
   "cell_type": "code",
   "execution_count": 4,
   "metadata": {},
   "outputs": [
    {
     "name": "stdout",
     "output_type": "stream",
     "text": [
      "['sim_epoch0.pth', 'sim_epoch1.pth', 'sim_epoch2.pth', 'sim_epoch3.pth', 'sim_epoch4.pth', 'sim_epoch5.pth', 'sim_epoch6.pth', 'sim_epoch7.pth', 'sim_epoch8.pth', 'sim_epoch9.pth', 'sim_epoch10.pth', 'sim_epoch11.pth', 'sim_epoch12.pth', 'sim_epoch13.pth', 'sim_epoch14.pth', 'sim_epoch15.pth', 'sim_epoch16.pth', 'sim_epoch17.pth', 'sim_epoch18.pth', 'sim_epoch19.pth', 'sim_epoch20.pth', 'sim_epoch21.pth', 'sim_epoch22.pth', 'sim_epoch23.pth', 'sim_epoch24.pth', 'sim_epoch25.pth', 'sim_epoch26.pth', 'sim_epoch27.pth', 'sim_epoch28.pth', 'sim_epoch29.pth', 'sim_epoch30.pth', 'sim_epoch31.pth', 'sim_epoch32.pth', 'sim_epoch33.pth', 'sim_epoch34.pth', 'sim_epoch35.pth', 'sim_epoch36.pth', 'sim_epoch37.pth', 'sim_epoch38.pth', 'sim_epoch39.pth', 'sim_epoch40.pth', 'sim_epoch41.pth', 'sim_epoch42.pth', 'sim_epoch43.pth', 'sim_epoch44.pth', 'sim_epoch45.pth', 'sim_epoch46.pth', 'sim_epoch47.pth', 'sim_epoch48.pth', 'sim_epoch49.pth', 'sim_epoch50.pth', 'sim_epoch51.pth', 'sim_epoch52.pth', 'sim_epoch53.pth', 'sim_epoch54.pth', 'sim_epoch55.pth', 'sim_epoch56.pth', 'sim_epoch57.pth', 'sim_epoch58.pth', 'sim_epoch59.pth', 'sim_epoch60.pth', 'sim_epoch61.pth', 'sim_epoch62.pth', 'sim_epoch63.pth', 'sim_epoch64.pth', 'sim_epoch65.pth', 'sim_epoch66.pth', 'sim_epoch67.pth', 'sim_epoch68.pth', 'sim_epoch69.pth', 'sim_epoch70.pth', 'sim_epoch71.pth', 'sim_epoch72.pth', 'sim_epoch73.pth', 'sim_epoch74.pth', 'sim_epoch75.pth', 'sim_epoch76.pth', 'sim_epoch77.pth', 'sim_epoch78.pth', 'sim_epoch79.pth', 'sim_epoch80.pth', 'sim_epoch81.pth', 'sim_epoch82.pth', 'sim_epoch83.pth', 'sim_epoch84.pth', 'sim_epoch85.pth', 'sim_epoch86.pth', 'sim_epoch87.pth', 'sim_epoch88.pth', 'sim_epoch89.pth', 'sim_epoch90.pth', 'sim_epoch91.pth', 'sim_epoch92.pth', 'sim_epoch93.pth', 'sim_epoch94.pth', 'sim_epoch95.pth', 'sim_epoch96.pth', 'sim_epoch97.pth', 'sim_epoch98.pth', 'sim_epoch99.pth', 'sim_epoch100.pth', 'sim_epoch101.pth', 'sim_epoch102.pth', 'sim_epoch103.pth', 'sim_epoch104.pth', 'sim_epoch105.pth', 'sim_epoch106.pth', 'sim_epoch107.pth', 'sim_epoch108.pth', 'sim_epoch109.pth', 'sim_epoch110.pth', 'sim_epoch111.pth', 'sim_epoch112.pth', 'sim_epoch113.pth', 'sim_epoch114.pth', 'sim_epoch115.pth', 'sim_epoch116.pth', 'sim_epoch117.pth', 'sim_epoch118.pth', 'sim_epoch119.pth', 'sim_epoch120.pth', 'sim_epoch121.pth', 'sim_epoch122.pth', 'sim_epoch123.pth', 'sim_epoch124.pth', 'sim_epoch125.pth', 'sim_epoch126.pth', 'sim_epoch127.pth', 'sim_epoch128.pth', 'sim_epoch129.pth', 'sim_epoch130.pth', 'sim_epoch131.pth', 'sim_epoch132.pth', 'sim_epoch133.pth', 'sim_epoch134.pth', 'sim_epoch135.pth', 'sim_epoch136.pth', 'sim_epoch137.pth', 'sim_epoch138.pth', 'sim_epoch139.pth', 'sim_epoch140.pth', 'sim_epoch141.pth', 'sim_epoch142.pth', 'sim_epoch143.pth', 'sim_epoch144.pth', 'sim_epoch145.pth', 'sim_epoch146.pth', 'sim_epoch147.pth', 'sim_epoch148.pth', 'sim_epoch149.pth', 'sim_epoch150.pth', 'sim_epoch151.pth', 'sim_epoch152.pth', 'sim_epoch153.pth', 'sim_epoch154.pth', 'sim_epoch155.pth', 'sim_epoch156.pth', 'sim_epoch157.pth', 'sim_epoch158.pth', 'sim_epoch159.pth', 'sim_epoch160.pth', 'sim_epoch161.pth', 'sim_epoch162.pth', 'sim_epoch163.pth', 'sim_epoch164.pth', 'sim_epoch165.pth', 'sim_epoch166.pth', 'sim_epoch167.pth', 'sim_epoch168.pth', 'sim_epoch169.pth', 'sim_epoch170.pth', 'sim_epoch171.pth', 'sim_epoch172.pth', 'sim_epoch173.pth', 'sim_epoch174.pth', 'sim_epoch175.pth', 'sim_epoch176.pth', 'sim_epoch177.pth', 'sim_epoch178.pth', 'sim_epoch179.pth', 'sim_epoch180.pth', 'sim_epoch181.pth', 'sim_epoch182.pth', 'sim_epoch183.pth', 'sim_epoch184.pth', 'sim_epoch185.pth', 'sim_epoch186.pth', 'sim_epoch187.pth', 'sim_epoch188.pth', 'sim_epoch189.pth', 'sim_epoch190.pth', 'sim_epoch191.pth', 'sim_epoch192.pth', 'sim_epoch193.pth', 'sim_epoch194.pth', 'sim_epoch195.pth', 'sim_epoch196.pth', 'sim_epoch197.pth', 'sim_epoch198.pth', 'sim_epoch199.pth']\n"
     ]
    }
   ],
   "source": [
    "observer.read_data(step=159)"
   ]
  },
  {
   "cell_type": "code",
   "execution_count": 5,
   "metadata": {},
   "outputs": [
    {
     "name": "stdout",
     "output_type": "stream",
     "text": [
      "tensor(0.8134, device='cuda:0', grad_fn=<MeanBackward0>)\n"
     ]
    }
   ],
   "source": [
    "observer.show_mean()"
   ]
  },
  {
   "cell_type": "code",
   "execution_count": 6,
   "metadata": {},
   "outputs": [
    {
     "name": "stdout",
     "output_type": "stream",
     "text": [
      "['sim_epoch0.pth', 'sim_epoch1.pth', 'sim_epoch2.pth', 'sim_epoch3.pth', 'sim_epoch4.pth', 'sim_epoch5.pth', 'sim_epoch6.pth', 'sim_epoch7.pth', 'sim_epoch8.pth', 'sim_epoch9.pth', 'sim_epoch10.pth', 'sim_epoch11.pth', 'sim_epoch12.pth', 'sim_epoch13.pth', 'sim_epoch14.pth', 'sim_epoch15.pth', 'sim_epoch16.pth', 'sim_epoch17.pth', 'sim_epoch18.pth', 'sim_epoch19.pth', 'sim_epoch20.pth', 'sim_epoch21.pth', 'sim_epoch22.pth', 'sim_epoch23.pth', 'sim_epoch24.pth', 'sim_epoch25.pth', 'sim_epoch26.pth', 'sim_epoch27.pth', 'sim_epoch28.pth', 'sim_epoch29.pth', 'sim_epoch30.pth', 'sim_epoch31.pth', 'sim_epoch32.pth', 'sim_epoch33.pth', 'sim_epoch34.pth', 'sim_epoch35.pth', 'sim_epoch36.pth', 'sim_epoch37.pth', 'sim_epoch38.pth', 'sim_epoch39.pth', 'sim_epoch40.pth', 'sim_epoch41.pth', 'sim_epoch42.pth', 'sim_epoch43.pth', 'sim_epoch44.pth', 'sim_epoch45.pth', 'sim_epoch46.pth', 'sim_epoch47.pth', 'sim_epoch48.pth', 'sim_epoch49.pth', 'sim_epoch50.pth', 'sim_epoch51.pth', 'sim_epoch52.pth', 'sim_epoch53.pth', 'sim_epoch54.pth', 'sim_epoch55.pth', 'sim_epoch56.pth', 'sim_epoch57.pth', 'sim_epoch58.pth', 'sim_epoch59.pth', 'sim_epoch60.pth', 'sim_epoch61.pth', 'sim_epoch62.pth', 'sim_epoch63.pth', 'sim_epoch64.pth', 'sim_epoch65.pth', 'sim_epoch66.pth', 'sim_epoch67.pth', 'sim_epoch68.pth', 'sim_epoch69.pth', 'sim_epoch70.pth', 'sim_epoch71.pth', 'sim_epoch72.pth', 'sim_epoch73.pth', 'sim_epoch74.pth', 'sim_epoch75.pth', 'sim_epoch76.pth', 'sim_epoch77.pth', 'sim_epoch78.pth', 'sim_epoch79.pth', 'sim_epoch80.pth', 'sim_epoch81.pth', 'sim_epoch82.pth', 'sim_epoch83.pth', 'sim_epoch84.pth', 'sim_epoch85.pth', 'sim_epoch86.pth', 'sim_epoch87.pth', 'sim_epoch88.pth', 'sim_epoch89.pth', 'sim_epoch90.pth', 'sim_epoch91.pth', 'sim_epoch92.pth', 'sim_epoch93.pth', 'sim_epoch94.pth', 'sim_epoch95.pth', 'sim_epoch96.pth', 'sim_epoch97.pth', 'sim_epoch98.pth', 'sim_epoch99.pth', 'sim_epoch100.pth', 'sim_epoch101.pth', 'sim_epoch102.pth', 'sim_epoch103.pth', 'sim_epoch104.pth', 'sim_epoch105.pth', 'sim_epoch106.pth', 'sim_epoch107.pth', 'sim_epoch108.pth', 'sim_epoch109.pth', 'sim_epoch110.pth', 'sim_epoch111.pth', 'sim_epoch112.pth', 'sim_epoch113.pth', 'sim_epoch114.pth', 'sim_epoch115.pth', 'sim_epoch116.pth', 'sim_epoch117.pth', 'sim_epoch118.pth', 'sim_epoch119.pth', 'sim_epoch120.pth', 'sim_epoch121.pth', 'sim_epoch122.pth', 'sim_epoch123.pth', 'sim_epoch124.pth', 'sim_epoch125.pth', 'sim_epoch126.pth', 'sim_epoch127.pth', 'sim_epoch128.pth', 'sim_epoch129.pth', 'sim_epoch130.pth', 'sim_epoch131.pth', 'sim_epoch132.pth', 'sim_epoch133.pth', 'sim_epoch134.pth', 'sim_epoch135.pth', 'sim_epoch136.pth', 'sim_epoch137.pth', 'sim_epoch138.pth', 'sim_epoch139.pth', 'sim_epoch140.pth', 'sim_epoch141.pth', 'sim_epoch142.pth', 'sim_epoch143.pth', 'sim_epoch144.pth', 'sim_epoch145.pth', 'sim_epoch146.pth', 'sim_epoch147.pth', 'sim_epoch148.pth', 'sim_epoch149.pth', 'sim_epoch150.pth', 'sim_epoch151.pth', 'sim_epoch152.pth', 'sim_epoch153.pth', 'sim_epoch154.pth', 'sim_epoch155.pth', 'sim_epoch156.pth', 'sim_epoch157.pth', 'sim_epoch158.pth', 'sim_epoch159.pth', 'sim_epoch160.pth', 'sim_epoch161.pth', 'sim_epoch162.pth', 'sim_epoch163.pth', 'sim_epoch164.pth', 'sim_epoch165.pth', 'sim_epoch166.pth', 'sim_epoch167.pth', 'sim_epoch168.pth', 'sim_epoch169.pth', 'sim_epoch170.pth', 'sim_epoch171.pth', 'sim_epoch172.pth', 'sim_epoch173.pth', 'sim_epoch174.pth', 'sim_epoch175.pth', 'sim_epoch176.pth', 'sim_epoch177.pth', 'sim_epoch178.pth', 'sim_epoch179.pth', 'sim_epoch180.pth', 'sim_epoch181.pth', 'sim_epoch182.pth', 'sim_epoch183.pth', 'sim_epoch184.pth', 'sim_epoch185.pth', 'sim_epoch186.pth', 'sim_epoch187.pth', 'sim_epoch188.pth', 'sim_epoch189.pth', 'sim_epoch190.pth', 'sim_epoch191.pth', 'sim_epoch192.pth', 'sim_epoch193.pth', 'sim_epoch194.pth', 'sim_epoch195.pth', 'sim_epoch196.pth', 'sim_epoch197.pth', 'sim_epoch198.pth', 'sim_epoch199.pth']\n"
     ]
    }
   ],
   "source": [
    "observer.read_data(step=160)"
   ]
  },
  {
   "cell_type": "code",
   "execution_count": 8,
   "metadata": {},
   "outputs": [
    {
     "name": "stdout",
     "output_type": "stream",
     "text": [
      "tensor(0.8343, device='cuda:0', grad_fn=<MeanBackward0>)\n"
     ]
    }
   ],
   "source": [
    "observer.show_mean()"
   ]
  },
  {
   "cell_type": "code",
   "execution_count": 7,
   "metadata": {},
   "outputs": [],
   "source": [
    "observer = Tau.TauObserver('/matrix/CLS/cifar100/hardneg_t7/similarities/')"
   ]
  },
  {
   "cell_type": "code",
   "execution_count": 8,
   "metadata": {},
   "outputs": [
    {
     "name": "stdout",
     "output_type": "stream",
     "text": [
      "['sim_epoch0.pth', 'sim_epoch1.pth', 'sim_epoch2.pth', 'sim_epoch3.pth', 'sim_epoch4.pth', 'sim_epoch5.pth', 'sim_epoch6.pth', 'sim_epoch7.pth', 'sim_epoch10.pth', 'sim_epoch20.pth', 'sim_epoch30.pth', 'sim_epoch40.pth', 'sim_epoch50.pth', 'sim_epoch60.pth', 'sim_epoch70.pth', 'sim_epoch80.pth', 'sim_epoch90.pth', 'sim_epoch100.pth', 'sim_epoch110.pth', 'sim_epoch120.pth', 'sim_epoch130.pth', 'sim_epoch140.pth', 'sim_epoch150.pth', 'sim_epoch160.pth', 'sim_epoch170.pth', 'sim_epoch180.pth', 'sim_epoch190.pth']\n",
      "tensor(0.8482, device='cuda:0', grad_fn=<MeanBackward0>)\n"
     ]
    }
   ],
   "source": [
    "observer.read_data(step=-2)\n",
    "observer.show_mean()"
   ]
  },
  {
   "cell_type": "code",
   "execution_count": null,
   "metadata": {},
   "outputs": [],
   "source": [
    "df = pd.DataFrame({\n",
    "        \"Name\": [\"Braund, Mr. Owen Harris\",\n",
    "                 \"Allen, Mr. William Henry\",\n",
    "                 \"Bonnell, Miss. Elizabeth\"],\n",
    "        \"Age\": [22, 35, 58],\n",
    "        \"Sex\": [\"male\", \"male\", \"female\"]}\n",
    ")"
   ]
  },
  {
   "cell_type": "code",
   "execution_count": null,
   "metadata": {},
   "outputs": [],
   "source": []
  }
 ],
 "metadata": {
  "kernelspec": {
   "display_name": "Python 3",
   "language": "python",
   "name": "python3"
  },
  "language_info": {
   "codemirror_mode": {
    "name": "ipython",
    "version": 3
   },
   "file_extension": ".py",
   "mimetype": "text/x-python",
   "name": "python",
   "nbconvert_exporter": "python",
   "pygments_lexer": "ipython3",
   "version": "3.7.4"
  }
 },
 "nbformat": 4,
 "nbformat_minor": 4
}
